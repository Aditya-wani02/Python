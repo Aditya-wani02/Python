{
 "cells": [
  {
   "cell_type": "code",
   "execution_count": null,
   "id": "7ed8ce4b",
   "metadata": {},
   "outputs": [],
   "source": [
    "## Variables"
   ]
  },
  {
   "cell_type": "code",
   "execution_count": 11,
   "id": "ea3cc9e2",
   "metadata": {},
   "outputs": [
    {
     "name": "stdout",
     "output_type": "stream",
     "text": [
      "30\n",
      "1\n"
     ]
    }
   ],
   "source": [
    "a = 10\n",
    "b = 20\n",
    "# abc =1\n",
    "sum = a+b\n",
    "print(sum)\n",
    "# print(abc)"
   ]
  },
  {
   "cell_type": "markdown",
   "id": "1e14b6ed",
   "metadata": {},
   "source": [
    "Name of the variables \n",
    "a-z\n",
    "A-Z\n",
    "0-9\n",
    "_\n",
    "but cannot start variable name with a digit\n",
    "12cd = 323 --> will be error\n"
   ]
  },
  {
   "cell_type": "markdown",
   "id": "d606c329",
   "metadata": {},
   "source": [
    "# Assinging different type of data to a variable"
   ]
  },
  {
   "cell_type": "code",
   "execution_count": 12,
   "id": "a4d7805d",
   "metadata": {},
   "outputs": [
    {
     "data": {
      "text/plain": [
       "'HAHAHA'"
      ]
     },
     "execution_count": 12,
     "metadata": {},
     "output_type": "execute_result"
    }
   ],
   "source": [
    "b = 10 \n",
    "a = \"HAHAHA\"\n",
    "# no need to declare data type\n",
    "a"
   ]
  },
  {
   "cell_type": "code",
   "execution_count": 16,
   "id": "4cb6ada5",
   "metadata": {},
   "outputs": [
    {
     "name": "stdout",
     "output_type": "stream",
     "text": [
      "<class 'str'>\n",
      "<class 'int'>\n"
     ]
    }
   ],
   "source": [
    "#  TO Find the type of data\n",
    "print(type(a))\n",
    "print(type(b))"
   ]
  },
  {
   "cell_type": "markdown",
   "id": "73100570",
   "metadata": {},
   "source": [
    "## Python numbers"
   ]
  },
  {
   "cell_type": "code",
   "execution_count": 18,
   "id": "f633a13f",
   "metadata": {},
   "outputs": [
    {
     "name": "stdout",
     "output_type": "stream",
     "text": [
      "<class 'int'>\n",
      "<class 'float'>\n",
      "<class 'complex'>\n"
     ]
    }
   ],
   "source": [
    "a1 = 23\n",
    "a2 = 3.45\n",
    "a3 = 4 + 5j\n",
    "print(type(a1))\n",
    "print(type(a2))\n",
    "print(type(a3))\n",
    "\n",
    "\n"
   ]
  },
  {
   "cell_type": "code",
   "execution_count": 20,
   "id": "2b2984ba",
   "metadata": {},
   "outputs": [
    {
     "name": "stdout",
     "output_type": "stream",
     "text": [
      "1998434429520\n",
      "1998434429552\n"
     ]
    },
    {
     "data": {
      "text/plain": [
       "11"
      ]
     },
     "execution_count": 20,
     "metadata": {},
     "output_type": "execute_result"
    }
   ],
   "source": [
    "a = 10\n",
    "print(id(a))\n",
    "a = a + 1\n",
    "print(id(a))\n",
    "#  id()  gives the address on which the number is stored\n",
    "a"
   ]
  },
  {
   "cell_type": "code",
   "execution_count": 27,
   "id": "93b44373",
   "metadata": {},
   "outputs": [
    {
     "name": "stdout",
     "output_type": "stream",
     "text": [
      "1998434429520\n",
      "1998434429520\n"
     ]
    }
   ],
   "source": [
    "a = 10\n",
    "b = 10\n",
    "print(id(a))\n",
    "print(id(b))"
   ]
  },
  {
   "cell_type": "code",
   "execution_count": 28,
   "id": "3e5c62a4",
   "metadata": {},
   "outputs": [],
   "source": [
    "# python gives the same address/id for the number between -5 to 256\n",
    "# so there is only one storage having 10\n",
    "# in it and a and b both are pointing on it (same location)"
   ]
  },
  {
   "cell_type": "markdown",
   "id": "6e36617e",
   "metadata": {},
   "source": [
    "# Range of numbers"
   ]
  },
  {
   "cell_type": "markdown",
   "id": "3134897a",
   "metadata": {},
   "source": [
    "In java and c++ \n",
    "int a will take 4bytes \n",
    "python does not have any limit about the range it creates new memory to store\n",
    "new number so the memory will depend on the storage provided to the program"
   ]
  },
  {
   "cell_type": "markdown",
   "id": "fbc5aaef",
   "metadata": {},
   "source": [
    "# Arithmetic Operation\n",
    "\n"
   ]
  },
  {
   "cell_type": "code",
   "execution_count": 7,
   "id": "8a805223",
   "metadata": {},
   "outputs": [
    {
     "data": {
      "text/plain": [
       "1"
      ]
     },
     "execution_count": 7,
     "metadata": {},
     "output_type": "execute_result"
    }
   ],
   "source": [
    "# Addition\n",
    "10 + 3 \n",
    "# Substraction\n",
    "10 - 3 \n",
    "# multiplication\n",
    "10 * 3\n",
    "# Division --> It will provide floating point result\n",
    "10 / 3\n",
    "# Interger division  ->> Interger result of the numbers\n",
    "10 // 3\n",
    "# Exponential\n",
    "10 ** 4\n",
    "# Modulo  -> Remainder\n",
    "10 % 3\n"
   ]
  },
  {
   "cell_type": "code",
   "execution_count": 9,
   "id": "12dab6c4",
   "metadata": {},
   "outputs": [
    {
     "data": {
      "text/plain": [
       "1"
      ]
     },
     "execution_count": 9,
     "metadata": {},
     "output_type": "execute_result"
    }
   ],
   "source": [
    "2 * 3 / 4   \n",
    "# 1.5\n",
    "2 * 3 //4\n"
   ]
  },
  {
   "cell_type": "code",
   "execution_count": 14,
   "id": "5ef8639f",
   "metadata": {},
   "outputs": [
    {
     "data": {
      "text/plain": [
       "24.0"
      ]
     },
     "execution_count": 14,
     "metadata": {},
     "output_type": "execute_result"
    }
   ],
   "source": [
    "# Simple Interest\n",
    "p = 100\n",
    "r = 12\n",
    "t = 2\n",
    "si = (p * r * t) / 100\n",
    "si"
   ]
  },
  {
   "cell_type": "code",
   "execution_count": 21,
   "id": "99a6695b",
   "metadata": {},
   "outputs": [
    {
     "name": "stdout",
     "output_type": "stream",
     "text": [
      "37.77777777777778\n"
     ]
    },
    {
     "data": {
      "text/plain": [
       "37"
      ]
     },
     "execution_count": 21,
     "metadata": {},
     "output_type": "execute_result"
    }
   ],
   "source": [
    "#  fah to celcius conversion\n",
    "f = 100\n",
    "c = (f - 32) * 5 / 9  #float\n",
    "print(c)\n",
    "ci =(f - 32) * 5 // 9 # integer\n",
    "ci"
   ]
  },
  {
   "cell_type": "markdown",
   "id": "7e4ee0d6",
   "metadata": {},
   "source": [
    "# Input"
   ]
  },
  {
   "cell_type": "code",
   "execution_count": 24,
   "id": "ac7f7d20",
   "metadata": {},
   "outputs": [
    {
     "name": "stdout",
     "output_type": "stream",
     "text": [
      "\n"
     ]
    },
    {
     "data": {
      "text/plain": [
       "''"
      ]
     },
     "execution_count": 24,
     "metadata": {},
     "output_type": "execute_result"
    }
   ],
   "source": [
    "a = input()\n",
    "a"
   ]
  },
  {
   "cell_type": "code",
   "execution_count": 26,
   "id": "26b5a84e",
   "metadata": {},
   "outputs": [
    {
     "name": "stdout",
     "output_type": "stream",
     "text": [
      "5\n",
      "5\n",
      "55\n"
     ]
    }
   ],
   "source": [
    "a = input() # taking input as String\n",
    "b = input()\n",
    "c = a + b\n",
    "print(c)"
   ]
  },
  {
   "cell_type": "code",
   "execution_count": 28,
   "id": "24b2b777",
   "metadata": {},
   "outputs": [
    {
     "name": "stdout",
     "output_type": "stream",
     "text": [
      "<class 'int'>\n"
     ]
    }
   ],
   "source": [
    "#  Conversion of string \n",
    "a = '34'\n",
    "b = int(a)\n",
    "print(type(b))"
   ]
  },
  {
   "cell_type": "code",
   "execution_count": 30,
   "id": "50a699b7",
   "metadata": {},
   "outputs": [
    {
     "name": "stdout",
     "output_type": "stream",
     "text": [
      "4\n",
      "4\n",
      "8\n"
     ]
    }
   ],
   "source": [
    "a = int(input()) # taking input as Interger\n",
    "b = int(input())\n",
    "c = a + b\n",
    "print(c) "
   ]
  },
  {
   "cell_type": "code",
   "execution_count": 34,
   "id": "f97c21e2",
   "metadata": {},
   "outputs": [
    {
     "name": "stdout",
     "output_type": "stream",
     "text": [
      "4\n",
      "3\n",
      "3\n",
      "3.3333333333333335\n"
     ]
    }
   ],
   "source": [
    "# Average of three Numbers\n",
    "a = int(input())\n",
    "b = int(input())\n",
    "c = int(input())\n",
    "avg = (a+b+c) / 3\n",
    "print(avg)"
   ]
  }
 ],
 "metadata": {
  "kernelspec": {
   "display_name": "Python 3 (ipykernel)",
   "language": "python",
   "name": "python3"
  },
  "language_info": {
   "codemirror_mode": {
    "name": "ipython",
    "version": 3
   },
   "file_extension": ".py",
   "mimetype": "text/x-python",
   "name": "python",
   "nbconvert_exporter": "python",
   "pygments_lexer": "ipython3",
   "version": "3.9.13"
  }
 },
 "nbformat": 4,
 "nbformat_minor": 5
}
