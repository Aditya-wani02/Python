{
 "cells": [
  {
   "cell_type": "code",
   "execution_count": 32,
   "id": "6e7df7d9",
   "metadata": {},
   "outputs": [],
   "source": [
    "from selenium import webdriver\n"
   ]
  },
  {
   "cell_type": "code",
   "execution_count": 28,
   "id": "bf5102ee",
   "metadata": {},
   "outputs": [
    {
     "name": "stderr",
     "output_type": "stream",
     "text": [
      "C:\\Users\\HP\\AppData\\Local\\Temp\\ipykernel_15100\\354186658.py:1: DeprecationWarning: executable_path has been deprecated, please pass in a Service object\n",
      "  driver = webdriver.Chrome(executable_path =\"C:/Users/HP/Downloads/chromedriver_win32/chromedriver\")\n"
     ]
    }
   ],
   "source": [
    "driver = webdriver.Chrome(executable_path =\"C:/Users/HP/Downloads/chromedriver_win32/chromedriver\")"
   ]
  },
  {
   "cell_type": "code",
   "execution_count": 3,
   "id": "8029c333",
   "metadata": {},
   "outputs": [],
   "source": [
    "driver.get(\"https:/codingninjas.in/\")"
   ]
  },
  {
   "cell_type": "code",
   "execution_count": 4,
   "id": "80a5aabd",
   "metadata": {},
   "outputs": [
    {
     "data": {
      "text/plain": [
       "\"Coding Ninjas - Learn coding online at India's best coding institute\""
      ]
     },
     "execution_count": 4,
     "metadata": {},
     "output_type": "execute_result"
    }
   ],
   "source": [
    "driver.title"
   ]
  },
  {
   "cell_type": "code",
   "execution_count": null,
   "id": "c612122c",
   "metadata": {},
   "outputs": [],
   "source": []
  },
  {
   "cell_type": "code",
   "execution_count": null,
   "id": "1069995f",
   "metadata": {},
   "outputs": [],
   "source": []
  },
  {
   "cell_type": "code",
   "execution_count": 4,
   "id": "35469f89",
   "metadata": {},
   "outputs": [
    {
     "name": "stderr",
     "output_type": "stream",
     "text": [
      "C:\\Users\\HP\\AppData\\Local\\Temp\\ipykernel_11880\\2677934932.py:1: DeprecationWarning: executable_path has been deprecated, please pass in a Service object\n",
      "  driver = webdriver.Chrome(executable_path =\"C:/Users/HP/Downloads/chromedriver_win32/chromedriver\")\n"
     ]
    }
   ],
   "source": [
    "driver = webdriver.Chrome(executable_path =\"C:/Users/HP/Downloads/chromedriver_win32/chromedriver\")\n",
    "driver.get(\"https:/codingninjas.in/\")"
   ]
  },
  {
   "cell_type": "code",
   "execution_count": 7,
   "id": "3cac3c36",
   "metadata": {},
   "outputs": [],
   "source": [
    "driver.maximize_window()"
   ]
  },
  {
   "cell_type": "code",
   "execution_count": 29,
   "id": "b9a73f5f",
   "metadata": {},
   "outputs": [],
   "source": [
    "driver.get('https://books.toscrape.com/')"
   ]
  },
  {
   "cell_type": "code",
   "execution_count": 30,
   "id": "29799011",
   "metadata": {},
   "outputs": [],
   "source": [
    "from selenium.webdriver.common.by import By"
   ]
  },
  {
   "cell_type": "code",
   "execution_count": 33,
   "id": "8002ad21",
   "metadata": {
    "scrolled": true
   },
   "outputs": [
    {
     "ename": "AttributeError",
     "evalue": "type object 'By' has no attribute 'CLASS'",
     "output_type": "error",
     "traceback": [
      "\u001b[1;31m---------------------------------------------------------------------------\u001b[0m",
      "\u001b[1;31mAttributeError\u001b[0m                            Traceback (most recent call last)",
      "\u001b[1;32m~\\AppData\\Local\\Temp\\ipykernel_15100\\1585460631.py\u001b[0m in \u001b[0;36m<module>\u001b[1;34m\u001b[0m\n\u001b[1;32m----> 1\u001b[1;33m \u001b[0mdriver\u001b[0m\u001b[1;33m.\u001b[0m\u001b[0mfind_element\u001b[0m\u001b[1;33m(\u001b[0m\u001b[0mBy\u001b[0m\u001b[1;33m.\u001b[0m\u001b[0mCLASS\u001b[0m\u001b[1;33m,\u001b[0m\u001b[1;34m'next'\u001b[0m\u001b[1;33m)\u001b[0m\u001b[1;33m\u001b[0m\u001b[1;33m\u001b[0m\u001b[0m\n\u001b[0m",
      "\u001b[1;31mAttributeError\u001b[0m: type object 'By' has no attribute 'CLASS'"
     ]
    }
   ],
   "source": [
    "driver.find_element(By.CLASS,'next')"
   ]
  },
  {
   "cell_type": "code",
   "execution_count": null,
   "id": "a4aa7d40",
   "metadata": {},
   "outputs": [],
   "source": []
  },
  {
   "cell_type": "code",
   "execution_count": null,
   "id": "044e8128",
   "metadata": {},
   "outputs": [],
   "source": []
  },
  {
   "cell_type": "code",
   "execution_count": null,
   "id": "0662790b",
   "metadata": {},
   "outputs": [],
   "source": []
  },
  {
   "cell_type": "code",
   "execution_count": null,
   "id": "703400ff",
   "metadata": {},
   "outputs": [],
   "source": []
  },
  {
   "cell_type": "code",
   "execution_count": null,
   "id": "7c822241",
   "metadata": {},
   "outputs": [],
   "source": []
  },
  {
   "cell_type": "code",
   "execution_count": null,
   "id": "81f2cfa6",
   "metadata": {},
   "outputs": [],
   "source": []
  }
 ],
 "metadata": {
  "kernelspec": {
   "display_name": "Python 3 (ipykernel)",
   "language": "python",
   "name": "python3"
  },
  "language_info": {
   "codemirror_mode": {
    "name": "ipython",
    "version": 3
   },
   "file_extension": ".py",
   "mimetype": "text/x-python",
   "name": "python",
   "nbconvert_exporter": "python",
   "pygments_lexer": "ipython3",
   "version": "3.9.13"
  }
 },
 "nbformat": 4,
 "nbformat_minor": 5
}
