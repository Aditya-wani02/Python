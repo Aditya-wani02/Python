{
 "cells": [
  {
   "cell_type": "code",
   "execution_count": 44,
   "id": "bc70bb24",
   "metadata": {},
   "outputs": [],
   "source": [
    "import numpy as np"
   ]
  },
  {
   "cell_type": "code",
   "execution_count": 45,
   "id": "82e21ee1",
   "metadata": {},
   "outputs": [],
   "source": [
    "data = np.loadtxt(\"data.csv\" , delimiter = \",\")\n"
   ]
  },
  {
   "cell_type": "code",
   "execution_count": 46,
   "id": "130e7773",
   "metadata": {},
   "outputs": [],
   "source": [
    "x = data[:,0].reshape(-1,1)\n",
    "y = data[:,1]"
   ]
  },
  {
   "cell_type": "code",
   "execution_count": 47,
   "id": "41e81de3",
   "metadata": {},
   "outputs": [
    {
     "data": {
      "text/plain": [
       "(100, 1)"
      ]
     },
     "execution_count": 47,
     "metadata": {},
     "output_type": "execute_result"
    }
   ],
   "source": [
    "x.shape"
   ]
  },
  {
   "cell_type": "code",
   "execution_count": 48,
   "id": "aae2959b",
   "metadata": {},
   "outputs": [],
   "source": [
    "from sklearn import model_selection\n",
    "X_train , X_test,Y_train , Y_test= model_selection.train_test_split(x,y,test_size=0.3)"
   ]
  },
  {
   "cell_type": "code",
   "execution_count": 49,
   "id": "5db83942",
   "metadata": {},
   "outputs": [],
   "source": [
    "def fit (x_train,y_train):\n",
    "    num=(x_train*y_train).mean() - x_train.mean() * y_train.mean()\n",
    "    den = (x_train**2).mean() - x_train.mean()**2\n",
    "    m = num/den\n",
    "    c= y_train.mean() - m* x_train.mean()\n",
    "    return m,c"
   ]
  },
  {
   "cell_type": "code",
   "execution_count": 58,
   "id": "6980ef74",
   "metadata": {},
   "outputs": [],
   "source": [
    "def predict(x,m,c):\n",
    "    return m*x +c\n",
    "\n",
    "def score(y_truth , y_pred):\n",
    "    u =((y_truth - y_pred) **2).sum()\n",
    "    v =((y_truth - y_truth.mean()) **2).sum()\n",
    "    return 1-u/v\n",
    "\n",
    "def cost(x,y,m,c):\n",
    "    return ((y - m * x -c)**2).mean()"
   ]
  },
  {
   "cell_type": "code",
   "execution_count": 59,
   "id": "7f9267af",
   "metadata": {},
   "outputs": [
    {
     "name": "stdout",
     "output_type": "stream",
     "text": [
      "Test score: -32.01729273410275\n",
      "Train Score: -69.00000000000001\n",
      "M, C 9.917860743267882e-15 73.94482850294301\n",
      "cost on training 318.28493198026956\n"
     ]
    }
   ],
   "source": [
    "m , c = fit(X_train , Y_train)\n",
    "# test data\n",
    "y_test_pred = predict(X_test,m,c)\n",
    "print(\"Test score:\",score(Y_test,y_test_pred))\n",
    "\n",
    "#train data\n",
    "\n",
    "y_train_pred = predict(X_train,m,c)\n",
    "print(\"Train Score:\",score(Y_train,y_train_pred))\n",
    "\n",
    "print(\"M, C\" , m,c)\n",
    "print(\"cost on training\" ,cost(X_train,Y_train,m,c))"
   ]
  },
  {
   "cell_type": "code",
   "execution_count": null,
   "id": "8f15af78",
   "metadata": {},
   "outputs": [],
   "source": []
  },
  {
   "cell_type": "code",
   "execution_count": null,
   "id": "b10c7dbf",
   "metadata": {},
   "outputs": [],
   "source": []
  },
  {
   "cell_type": "code",
   "execution_count": null,
   "id": "a12987e6",
   "metadata": {},
   "outputs": [],
   "source": []
  }
 ],
 "metadata": {
  "kernelspec": {
   "display_name": "Python 3 (ipykernel)",
   "language": "python",
   "name": "python3"
  },
  "language_info": {
   "codemirror_mode": {
    "name": "ipython",
    "version": 3
   },
   "file_extension": ".py",
   "mimetype": "text/x-python",
   "name": "python",
   "nbconvert_exporter": "python",
   "pygments_lexer": "ipython3",
   "version": "3.9.13"
  }
 },
 "nbformat": 4,
 "nbformat_minor": 5
}
