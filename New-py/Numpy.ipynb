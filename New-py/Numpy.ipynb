{
 "cells": [
  {
   "cell_type": "code",
   "execution_count": 2,
   "id": "2fadb7bb",
   "metadata": {},
   "outputs": [
    {
     "data": {
      "text/plain": [
       "numpy.ndarray"
      ]
     },
     "execution_count": 2,
     "metadata": {},
     "output_type": "execute_result"
    }
   ],
   "source": [
    "import numpy as np\n",
    "a = [1,2,3]\n",
    "b=np.array(a)\n",
    "type(b)"
   ]
  },
  {
   "cell_type": "code",
   "execution_count": 8,
   "id": "d5d8cb14",
   "metadata": {},
   "outputs": [
    {
     "name": "stdout",
     "output_type": "stream",
     "text": [
      "[1 2 3 4 4]\n"
     ]
    }
   ],
   "source": [
    "a =[1,2,3,4,4.5]\n",
    "b=np.array(a , dtype=int)\n",
    "print(b)"
   ]
  },
  {
   "cell_type": "code",
   "execution_count": 10,
   "id": "5703b3ec",
   "metadata": {},
   "outputs": [
    {
     "name": "stdout",
     "output_type": "stream",
     "text": [
      "['1' '2' '3' '4' '4.5' '1' '2' '3' '4' '4.5' '1' '2' '3' '4' '4.5']\n"
     ]
    }
   ],
   "source": [
    "a =[1,2,3,'4',4.5]\n",
    "b=np.array(a *3)\n",
    "print(b)"
   ]
  },
  {
   "cell_type": "code",
   "execution_count": 12,
   "id": "dcece6fa",
   "metadata": {},
   "outputs": [
    {
     "data": {
      "text/plain": [
       "array([1, 1, 1])"
      ]
     },
     "execution_count": 12,
     "metadata": {},
     "output_type": "execute_result"
    }
   ],
   "source": [
    "b = np.ones(3,dtype = int)\n",
    "b"
   ]
  },
  {
   "cell_type": "code",
   "execution_count": 16,
   "id": "4ed23c35",
   "metadata": {},
   "outputs": [
    {
     "data": {
      "text/plain": [
       "array([[1, 1, 1, 1],\n",
       "       [1, 1, 1, 1],\n",
       "       [1, 1, 1, 1]])"
      ]
     },
     "execution_count": 16,
     "metadata": {},
     "output_type": "execute_result"
    }
   ],
   "source": [
    "b = np.ones(3,dtype = int)\n",
    "b"
   ]
  },
  {
   "cell_type": "code",
   "execution_count": 22,
   "id": "f7211a0f",
   "metadata": {},
   "outputs": [
    {
     "data": {
      "text/plain": [
       "numpy.float64"
      ]
     },
     "execution_count": 22,
     "metadata": {},
     "output_type": "execute_result"
    }
   ],
   "source": [
    "b = np.full(3,fill_value=4.4)\n",
    "type(b[0])"
   ]
  },
  {
   "cell_type": "code",
   "execution_count": 36,
   "id": "b1ebdb77",
   "metadata": {},
   "outputs": [
    {
     "data": {
      "text/plain": [
       "array([      0,       1,       0, 5570652,    1424,       0,     768,\n",
       "           127])"
      ]
     },
     "execution_count": 36,
     "metadata": {},
     "output_type": "execute_result"
    }
   ],
   "source": [
    "c = np.empty(8,dtype=int)\n",
    "c"
   ]
  },
  {
   "cell_type": "code",
   "execution_count": 16,
   "id": "94225b25",
   "metadata": {},
   "outputs": [
    {
     "name": "stdout",
     "output_type": "stream",
     "text": [
      "[[1 2 3]\n",
      " [3 4 5]\n",
      " [5 6 7]]\n"
     ]
    }
   ],
   "source": [
    "import numpy as np\n",
    "tdlist = [[1,2,3],[3,4,5],[5,6,7]]\n",
    "\n",
    "b = np.array(tdlist)\n",
    "print((b))"
   ]
  },
  {
   "cell_type": "code",
   "execution_count": 19,
   "id": "673edf73",
   "metadata": {},
   "outputs": [
    {
     "data": {
      "text/plain": [
       "array([0, 0, 0, 0, 1, 0, 0, 0, 0, 0])"
      ]
     },
     "execution_count": 19,
     "metadata": {},
     "output_type": "execute_result"
    }
   ],
   "source": [
    "import numpy as np\n",
    "b=np.zeros(10,dtype=int)\n",
    "b[4] = 1\n",
    "b\n"
   ]
  },
  {
   "cell_type": "code",
   "execution_count": 23,
   "id": "c4c0489e",
   "metadata": {},
   "outputs": [
    {
     "data": {
      "text/plain": [
       "array([2, 4, 6, 8])"
      ]
     },
     "execution_count": 23,
     "metadata": {},
     "output_type": "execute_result"
    }
   ],
   "source": [
    "b = np.arange(2,10,2)\n",
    "b"
   ]
  },
  {
   "cell_type": "code",
   "execution_count": 25,
   "id": "c3e081c0",
   "metadata": {},
   "outputs": [
    {
     "data": {
      "text/plain": [
       "array([0, 1, 2, 3, 4, 5, 6, 7, 8, 9])"
      ]
     },
     "execution_count": 25,
     "metadata": {},
     "output_type": "execute_result"
    }
   ],
   "source": [
    "b = np.arange(10)\n",
    "b"
   ]
  },
  {
   "cell_type": "code",
   "execution_count": 26,
   "id": "cbc8c4b0",
   "metadata": {},
   "outputs": [
    {
     "data": {
      "text/plain": [
       "array([2, 3, 4, 5, 6, 7, 8, 9])"
      ]
     },
     "execution_count": 26,
     "metadata": {},
     "output_type": "execute_result"
    }
   ],
   "source": [
    "b = np.arange(2,10)\n",
    "b"
   ]
  },
  {
   "cell_type": "code",
   "execution_count": 33,
   "id": "4239fe5b",
   "metadata": {},
   "outputs": [
    {
     "name": "stdout",
     "output_type": "stream",
     "text": [
      "2.0\n"
     ]
    },
    {
     "data": {
      "text/plain": [
       "array([ 2.,  4.,  6.,  8., 10.])"
      ]
     },
     "execution_count": 33,
     "metadata": {},
     "output_type": "execute_result"
    }
   ],
   "source": [
    "b = np.linspace(2,10,5)\n",
    "b\n",
    "print(b[1] -b[0])\n",
    "b"
   ]
  },
  {
   "cell_type": "code",
   "execution_count": 35,
   "id": "b12c0cf9",
   "metadata": {},
   "outputs": [
    {
     "data": {
      "text/plain": [
       "array([[1., 0., 0.],\n",
       "       [0., 1., 0.],\n",
       "       [0., 0., 1.]])"
      ]
     },
     "execution_count": 35,
     "metadata": {},
     "output_type": "execute_result"
    }
   ],
   "source": [
    "b = np.identity(3)\n",
    "b"
   ]
  },
  {
   "cell_type": "code",
   "execution_count": 36,
   "id": "236ad515",
   "metadata": {},
   "outputs": [
    {
     "data": {
      "text/plain": [
       "array([[1., 0., 0.],\n",
       "       [0., 1., 0.],\n",
       "       [0., 0., 1.]])"
      ]
     },
     "execution_count": 36,
     "metadata": {},
     "output_type": "execute_result"
    }
   ],
   "source": [
    "b = np.eye(3)\n",
    "b"
   ]
  },
  {
   "cell_type": "code",
   "execution_count": 37,
   "id": "67516e8b",
   "metadata": {},
   "outputs": [
    {
     "data": {
      "text/plain": [
       "array([[0.95011726, 0.99147821, 0.09456787, 0.06245872],\n",
       "       [0.1660931 , 0.29969795, 0.55073132, 0.94819033],\n",
       "       [0.66917399, 0.12096911, 0.72937572, 0.35727663]])"
      ]
     },
     "execution_count": 37,
     "metadata": {},
     "output_type": "execute_result"
    }
   ],
   "source": [
    "b = np.random.rand(3,4)\n",
    "b"
   ]
  },
  {
   "cell_type": "code",
   "execution_count": 114,
   "id": "ca69f83a",
   "metadata": {},
   "outputs": [
    {
     "data": {
      "text/plain": [
       "array([[7.68950581, 7.79650803],\n",
       "       [5.60753989, 9.42808923],\n",
       "       [8.03431073, 3.67520309]])"
      ]
     },
     "execution_count": 114,
     "metadata": {},
     "output_type": "execute_result"
    }
   ],
   "source": [
    "b = np.random.rand(3,2)*10\n",
    "b"
   ]
  },
  {
   "cell_type": "code",
   "execution_count": 149,
   "id": "b2f206a7",
   "metadata": {},
   "outputs": [
    {
     "data": {
      "text/plain": [
       "570"
      ]
     },
     "execution_count": 149,
     "metadata": {},
     "output_type": "execute_result"
    }
   ],
   "source": [
    "b = np.random.randint(0,100)*10\n",
    "b"
   ]
  },
  {
   "cell_type": "code",
   "execution_count": 163,
   "id": "ad662d76",
   "metadata": {},
   "outputs": [
    {
     "data": {
      "text/plain": [
       "array([[30, 80, 50],\n",
       "       [90, 50,  0],\n",
       "       [80, 10, 50]])"
      ]
     },
     "execution_count": 163,
     "metadata": {},
     "output_type": "execute_result"
    }
   ],
   "source": [
    "b = np.random.randint(10 ,size=(3,3))*10\n",
    "b"
   ]
  },
  {
   "cell_type": "code",
   "execution_count": 165,
   "id": "51bacf39",
   "metadata": {},
   "outputs": [
    {
     "data": {
      "text/plain": [
       "array([ 9, 10, 11, 12, 13, 14, 15, 16, 17, 18, 19, 20, 21, 22, 23, 24, 25,\n",
       "       26, 27, 28, 29, 30, 31, 32, 33, 34, 35, 36, 37, 38, 39, 40, 41, 42,\n",
       "       43, 44, 45, 46, 47, 48, 49])"
      ]
     },
     "execution_count": 165,
     "metadata": {},
     "output_type": "execute_result"
    }
   ],
   "source": [
    "c = np.arange(9,50)\n",
    "c"
   ]
  },
  {
   "cell_type": "code",
   "execution_count": 170,
   "id": "3798846f",
   "metadata": {},
   "outputs": [
    {
     "data": {
      "text/plain": [
       "array([0.        , 0.55555556, 1.11111111, 1.66666667, 2.22222222,\n",
       "       2.77777778, 3.33333333, 3.88888889, 4.44444444, 5.        ])"
      ]
     },
     "execution_count": 170,
     "metadata": {},
     "output_type": "execute_result"
    }
   ],
   "source": [
    "r = np.linspace(0,5,10,float)\n",
    "r"
   ]
  },
  {
   "cell_type": "code",
   "execution_count": 4,
   "id": "c41d8094",
   "metadata": {},
   "outputs": [
    {
     "name": "stdout",
     "output_type": "stream",
     "text": [
      "<memory at 0x0000027B4A4F37C0>\n",
      "(5,)\n",
      "int32\n",
      "(4,)\n"
     ]
    }
   ],
   "source": [
    "import numpy as np\n",
    "ls= [1,2,3,4,5]\n",
    "arr = np.array(ls)\n",
    "print(arr.data)\n",
    "print(arr.shape)\n",
    "print(arr.dtype)\n",
    "print(arr.strides)"
   ]
  },
  {
   "cell_type": "code",
   "execution_count": 7,
   "id": "851c265c",
   "metadata": {},
   "outputs": [
    {
     "name": "stdout",
     "output_type": "stream",
     "text": [
      "3\n",
      "4\n",
      "[2 3]\n"
     ]
    }
   ],
   "source": [
    "print(ls[2])\n",
    "print(arr[3])\n",
    "print(arr[1:3])"
   ]
  },
  {
   "cell_type": "code",
   "execution_count": 8,
   "id": "8072b837",
   "metadata": {},
   "outputs": [
    {
     "name": "stdout",
     "output_type": "stream",
     "text": [
      "<memory at 0x0000027B4A510520>\n",
      "(3, 3)\n",
      "int32\n",
      "(12, 4)\n"
     ]
    }
   ],
   "source": [
    "import numpy as np\n",
    "ls2= [[1,2,3],[3,4,5] , [4,3,4]]\n",
    "arr2 = np.array(ls2)\n",
    "print(arr2.data)\n",
    "print(arr2.shape)\n",
    "print(arr2.dtype)\n",
    "print(arr2.strides)"
   ]
  },
  {
   "cell_type": "code",
   "execution_count": 12,
   "id": "145ed259",
   "metadata": {},
   "outputs": [
    {
     "name": "stdout",
     "output_type": "stream",
     "text": [
      "[[1, 2, 3], [3, 4, 5], [4, 3, 4]]\n",
      "3\n"
     ]
    }
   ],
   "source": [
    "print(ls2)\n",
    "print(arr2[2,1])\n",
    "# also use comma for retriving an element"
   ]
  },
  {
   "cell_type": "code",
   "execution_count": 15,
   "id": "b7876127",
   "metadata": {},
   "outputs": [
    {
     "name": "stdout",
     "output_type": "stream",
     "text": [
      "[3, 4, 5]\n",
      "[3 4 5]\n"
     ]
    }
   ],
   "source": [
    "# slice element from 2 d array\n",
    "print(ls2[1][:3])\n",
    "print(arr2[1][:3])"
   ]
  },
  {
   "cell_type": "code",
   "execution_count": 17,
   "id": "34db5cbc",
   "metadata": {},
   "outputs": [
    {
     "name": "stdout",
     "output_type": "stream",
     "text": [
      "[4, 3, 4]\n"
     ]
    }
   ],
   "source": [
    "print(ls2[0:3][2])"
   ]
  },
  {
   "cell_type": "code",
   "execution_count": 18,
   "id": "97ee7574",
   "metadata": {},
   "outputs": [
    {
     "name": "stdout",
     "output_type": "stream",
     "text": [
      "[3 5 4]\n"
     ]
    }
   ],
   "source": [
    "print(arr2[0:3 , 2])"
   ]
  },
  {
   "cell_type": "code",
   "execution_count": 1,
   "id": "14202e5f",
   "metadata": {},
   "outputs": [
    {
     "name": "stdout",
     "output_type": "stream",
     "text": [
      "[1, 2, 3, 4, 5]\n",
      "[ 3 14  4  6 18]\n",
      "[10  3  5  6 16]\n"
     ]
    }
   ],
   "source": [
    "import numpy as np\n",
    "ls = [1,2,3,4,5]\n",
    "a = np.random.randint(1,20,5)\n",
    "b = np.random.randint(1,20,5)\n",
    "print(ls)\n",
    "print(a)\n",
    "print(b)"
   ]
  },
  {
   "cell_type": "code",
   "execution_count": 2,
   "id": "d98ca0a0",
   "metadata": {},
   "outputs": [
    {
     "data": {
      "text/plain": [
       "[2, 3, 4, 5, 6]"
      ]
     },
     "execution_count": 2,
     "metadata": {},
     "output_type": "execute_result"
    }
   ],
   "source": [
    "ls = [i+1 for i in ls]\n",
    "ls"
   ]
  },
  {
   "cell_type": "code",
   "execution_count": 5,
   "id": "535439e3",
   "metadata": {},
   "outputs": [
    {
     "data": {
      "text/plain": [
       "array([ 6, 17,  7,  9, 21])"
      ]
     },
     "execution_count": 5,
     "metadata": {},
     "output_type": "execute_result"
    }
   ],
   "source": [
    "a = a+1\n",
    "a"
   ]
  },
  {
   "cell_type": "code",
   "execution_count": 6,
   "id": "5a56e12e",
   "metadata": {},
   "outputs": [],
   "source": [
    "c = a+b"
   ]
  },
  {
   "cell_type": "code",
   "execution_count": 7,
   "id": "a3c2b41e",
   "metadata": {},
   "outputs": [
    {
     "data": {
      "text/plain": [
       "array([16, 20, 12, 15, 37])"
      ]
     },
     "execution_count": 7,
     "metadata": {},
     "output_type": "execute_result"
    }
   ],
   "source": [
    "c"
   ]
  },
  {
   "cell_type": "code",
   "execution_count": 8,
   "id": "688097f4",
   "metadata": {},
   "outputs": [
    {
     "data": {
      "text/plain": [
       "array([-4, 14,  2,  3,  5])"
      ]
     },
     "execution_count": 8,
     "metadata": {},
     "output_type": "execute_result"
    }
   ],
   "source": [
    "c = a-b\n",
    "c"
   ]
  },
  {
   "cell_type": "code",
   "execution_count": 9,
   "id": "9c22ad7b",
   "metadata": {},
   "outputs": [
    {
     "data": {
      "text/plain": [
       "array([ 60466176,      4913,     16807,    531441, 492582081], dtype=int32)"
      ]
     },
     "execution_count": 9,
     "metadata": {},
     "output_type": "execute_result"
    }
   ],
   "source": [
    "h = a ** b\n",
    "h"
   ]
  },
  {
   "cell_type": "code",
   "execution_count": 13,
   "id": "af53a1d4",
   "metadata": {},
   "outputs": [
    {
     "name": "stdout",
     "output_type": "stream",
     "text": [
      "[ 6 17  7  2 21]\n",
      "53\n",
      "10.6\n",
      "2\n",
      "3\n"
     ]
    }
   ],
   "source": [
    "print(a)\n",
    "\n",
    "print(a.sum())\n",
    "print(a.mean())\n",
    "print(a.min())\n",
    "print(a.argmin())"
   ]
  },
  {
   "cell_type": "code",
   "execution_count": 14,
   "id": "a27dddf0",
   "metadata": {},
   "outputs": [
    {
     "name": "stdout",
     "output_type": "stream",
     "text": [
      "[ 6 17  7  2 21]\n",
      "[10  3  5  6 16]\n"
     ]
    },
    {
     "data": {
      "text/plain": [
       "array([False,  True,  True, False,  True])"
      ]
     },
     "execution_count": 14,
     "metadata": {},
     "output_type": "execute_result"
    }
   ],
   "source": [
    "print(a)\n",
    "print(b)\n",
    "a>b"
   ]
  },
  {
   "cell_type": "code",
   "execution_count": 17,
   "id": "bef5205e",
   "metadata": {},
   "outputs": [
    {
     "name": "stdout",
     "output_type": "stream",
     "text": [
      "[ True  True  True  True  True]\n",
      "[ True  True False  True  True]\n",
      "[0 0 1 0 0]\n"
     ]
    }
   ],
   "source": [
    "a[2] =0\n",
    "print(np.logical_or(a,b))\n",
    "print(np.logical_and(a,b))\n",
    "print(np.logical_not(a,b))"
   ]
  },
  {
   "cell_type": "code",
   "execution_count": 22,
   "id": "693d4ab1",
   "metadata": {},
   "outputs": [
    {
     "name": "stdout",
     "output_type": "stream",
     "text": [
      "[17  1 10 14 11  7  5  6]\n",
      "[ True False False  True  True False False False]\n"
     ]
    }
   ],
   "source": [
    "import numpy as np\n",
    "\n",
    "b = np.random.randint(1,20,8)\n",
    "print(b)\n",
    "print(b >10)"
   ]
  },
  {
   "cell_type": "code",
   "execution_count": 24,
   "id": "ebaefd7f",
   "metadata": {},
   "outputs": [
    {
     "name": "stdout",
     "output_type": "stream",
     "text": [
      "[ True False False  True  True False False False]\n",
      "[17 14 11]\n"
     ]
    }
   ],
   "source": [
    "bool_arr = b>10\n",
    "print(bool_arr)\n",
    "new_ar = b[bool_arr]\n",
    "print(new_ar)"
   ]
  },
  {
   "cell_type": "code",
   "execution_count": 25,
   "id": "2b776edb",
   "metadata": {},
   "outputs": [
    {
     "name": "stdout",
     "output_type": "stream",
     "text": [
      "[17 14 11]\n"
     ]
    }
   ],
   "source": [
    "n = b[b>10]\n",
    "print(n)"
   ]
  },
  {
   "cell_type": "code",
   "execution_count": 51,
   "id": "22ffa9d2",
   "metadata": {},
   "outputs": [
    {
     "name": "stdout",
     "output_type": "stream",
     "text": [
      "[ 9  9  9 10 10 10  9 10]\n"
     ]
    }
   ],
   "source": [
    "b = np.random.randint(1,20,8)\n",
    "c = b\n",
    "c[:3] = 9\n",
    "c[c>10] =10\n",
    "# print(b)\n",
    "print(c)"
   ]
  },
  {
   "cell_type": "code",
   "execution_count": 53,
   "id": "549ada0f",
   "metadata": {},
   "outputs": [
    {
     "name": "stdout",
     "output_type": "stream",
     "text": [
      "[10 10 10 10]\n"
     ]
    }
   ],
   "source": [
    "print(b[b==10])"
   ]
  },
  {
   "cell_type": "code",
   "execution_count": 54,
   "id": "0a3b7588",
   "metadata": {},
   "outputs": [
    {
     "data": {
      "text/plain": [
       "(array([3, 4, 5, 7], dtype=int64),)"
      ]
     },
     "execution_count": 54,
     "metadata": {},
     "output_type": "execute_result"
    }
   ],
   "source": [
    "ind  = np.where(b ==10)\n",
    "ind"
   ]
  },
  {
   "cell_type": "code",
   "execution_count": 61,
   "id": "b8f7ebb8",
   "metadata": {},
   "outputs": [
    {
     "name": "stdout",
     "output_type": "stream",
     "text": [
      "['t', 'a', 'm', 'd', 'h', 'w']\n",
      "[ 9  9  9 10 10 10  9 10]\n"
     ]
    }
   ],
   "source": [
    "a  = ['t','a','m','d','h','w']\n",
    "print(a)\n",
    "print(b)"
   ]
  },
  {
   "cell_type": "code",
   "execution_count": 68,
   "id": "ff81df4f",
   "metadata": {},
   "outputs": [
    {
     "name": "stdout",
     "output_type": "stream",
     "text": [
      "(array([3, 4, 5, 7], dtype=int64),)\n",
      "[(array([3, 4, 5, 7], dtype=int64),)]\n"
     ]
    }
   ],
   "source": [
    "ind  = np.where(b == 10)\n",
    "print(ind)\n",
    "print([ind])"
   ]
  },
  {
   "cell_type": "code",
   "execution_count": 11,
   "id": "230ed829",
   "metadata": {},
   "outputs": [
    {
     "name": "stdout",
     "output_type": "stream",
     "text": [
      "[[16 10 15 19  1  2]\n",
      " [21  8 17 25 19 20]\n",
      " [ 9 28  8  8 21  5]\n",
      " [ 3  9 21 12 22 20]\n",
      " [ 8 22 20 13  1 10]]\n"
     ]
    }
   ],
   "source": [
    "import numpy as np\n",
    "a = np.random.randint(1,30,(5,6))\n",
    "print(a)"
   ]
  },
  {
   "cell_type": "code",
   "execution_count": 14,
   "id": "034770d0",
   "metadata": {},
   "outputs": [
    {
     "data": {
      "text/plain": [
       "array([[False, False, False, False, False, False],\n",
       "       [ True, False, False,  True, False, False],\n",
       "       [False,  True, False, False,  True, False],\n",
       "       [False, False,  True, False,  True, False],\n",
       "       [False,  True, False, False, False, False]])"
      ]
     },
     "execution_count": 14,
     "metadata": {},
     "output_type": "execute_result"
    }
   ],
   "source": [
    "booltf =a >20\n",
    "booltf"
   ]
  },
  {
   "cell_type": "code",
   "execution_count": 17,
   "id": "5d29093b",
   "metadata": {},
   "outputs": [
    {
     "name": "stdout",
     "output_type": "stream",
     "text": [
      "[21 25 28 21 21 22 22]\n"
     ]
    }
   ],
   "source": [
    "boolarr = a[booltf]\n",
    "print(boolarr)\n",
    "b = a"
   ]
  },
  {
   "cell_type": "code",
   "execution_count": 27,
   "id": "11aa6895",
   "metadata": {},
   "outputs": [
    {
     "name": "stdout",
     "output_type": "stream",
     "text": [
      "[[ 16  10  15  19   1   2]\n",
      " [100 123  99 100  99  99]\n",
      " [  9 100   8   8 100   5]\n",
      " [  3   9 100  12 100  20]\n",
      " [  8 100  20  13   1  10]]\n"
     ]
    }
   ],
   "source": [
    "b[booltf] =100\n",
    "b[1][1] =123\n",
    "print(b)"
   ]
  },
  {
   "cell_type": "code",
   "execution_count": 28,
   "id": "af5b7a7b",
   "metadata": {},
   "outputs": [
    {
     "name": "stdout",
     "output_type": "stream",
     "text": [
      "[False  True False False False]\n",
      "[[ 16  10  15  19   1   2]\n",
      " [100 123  99  99  99  99]\n",
      " [  9 100   8   8 100   5]\n",
      " [  3   9 100  12 100  20]\n",
      " [  8 100  20  13   1  10]]\n"
     ]
    }
   ],
   "source": [
    "bool_arr =b[:,3] ==100\n",
    "print(bool_arr)\n",
    "b[bool_arr,3] = 99\n",
    "print(b)"
   ]
  },
  {
   "cell_type": "code",
   "execution_count": 30,
   "id": "d662abe1",
   "metadata": {},
   "outputs": [
    {
     "name": "stdout",
     "output_type": "stream",
     "text": [
      "[[2 4 5]\n",
      " [9 3 1]\n",
      " [7 9 4]]\n",
      "[[8 1 8]\n",
      " [8 8 3]\n",
      " [6 9 3]]\n"
     ]
    }
   ],
   "source": [
    "x = np.random.randint(1,10,(3,3))\n",
    "y = np.random.randint(1,10,(3,3))\n",
    "print(x)\n",
    "print(y)\n"
   ]
  },
  {
   "cell_type": "code",
   "execution_count": 31,
   "id": "956cc6a0",
   "metadata": {},
   "outputs": [
    {
     "name": "stdout",
     "output_type": "stream",
     "text": [
      "[[-6  3 -3]\n",
      " [ 1 -5 -2]\n",
      " [ 1  0  1]]\n"
     ]
    }
   ],
   "source": [
    "ans = x - y\n",
    "print(ans)"
   ]
  },
  {
   "cell_type": "code",
   "execution_count": 32,
   "id": "a4df0fa5",
   "metadata": {},
   "outputs": [
    {
     "name": "stdout",
     "output_type": "stream",
     "text": [
      "[[2 8 2]\n",
      " [7 3 5]\n",
      " [8 1 6]]\n",
      "[3 3 4]\n"
     ]
    }
   ],
   "source": [
    "x = np.random.randint(1,10,(3,3))\n",
    "y = np.random.randint(1,10,(3))\n",
    "print(x)\n",
    "print(y)\n"
   ]
  },
  {
   "cell_type": "code",
   "execution_count": 33,
   "id": "7b802dfa",
   "metadata": {},
   "outputs": [
    {
     "name": "stdout",
     "output_type": "stream",
     "text": [
      "[[-1  5 -2]\n",
      " [ 4  0  1]\n",
      " [ 5 -2  2]]\n"
     ]
    }
   ],
   "source": [
    "ans = x - y\n",
    "print(ans)"
   ]
  },
  {
   "cell_type": "code",
   "execution_count": 36,
   "id": "1d1d5035",
   "metadata": {},
   "outputs": [
    {
     "name": "stdout",
     "output_type": "stream",
     "text": [
      "[[3 1]\n",
      " [7 9]\n",
      " [9 6]]\n",
      "[[6 4]\n",
      " [6 7]\n",
      " [5 8]]\n",
      "[[-3 -3]\n",
      " [ 1  2]\n",
      " [ 4 -2]]\n"
     ]
    }
   ],
   "source": [
    "x = np.random.randint(1,10,(3,2))\n",
    "y = np.random.randint(1,10,(2,3))\n",
    "y=np.transpose(y)\n",
    "print(x)\n",
    "print(y)\n",
    "ans = x - y\n",
    "print(ans)"
   ]
  },
  {
   "cell_type": "markdown",
   "id": "e30fbc63",
   "metadata": {},
   "source": [
    "Also use to make different size array compatible ->\n",
    "1.resize\n",
    "2.reshape"
   ]
  },
  {
   "cell_type": "code",
   "execution_count": null,
   "id": "53b0e52f",
   "metadata": {},
   "outputs": [],
   "source": []
  }
 ],
 "metadata": {
  "kernelspec": {
   "display_name": "Python 3 (ipykernel)",
   "language": "python",
   "name": "python3"
  },
  "language_info": {
   "codemirror_mode": {
    "name": "ipython",
    "version": 3
   },
   "file_extension": ".py",
   "mimetype": "text/x-python",
   "name": "python",
   "nbconvert_exporter": "python",
   "pygments_lexer": "ipython3",
   "version": "3.9.13"
  }
 },
 "nbformat": 4,
 "nbformat_minor": 5
}
