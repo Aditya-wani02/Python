{
 "cells": [
  {
   "cell_type": "markdown",
   "id": "16b640a3",
   "metadata": {},
   "source": [
    "NAME = Learn API"
   ]
  },
  {
   "cell_type": "markdown",
   "id": "0b4c591e",
   "metadata": {},
   "source": [
    "Client id - b8-enduzm4uOxQGYte03yg"
   ]
  },
  {
   "cell_type": "markdown",
   "id": "a72747a7",
   "metadata": {},
   "source": [
    "Client secret -\tgwoy4CRgsl6wv9BCZkE4RZSpUs5-Xw"
   ]
  },
  {
   "cell_type": "code",
   "execution_count": 3,
   "id": "faa3906a",
   "metadata": {},
   "outputs": [],
   "source": [
    "import requests\n",
    "import json\n"
   ]
  },
  {
   "cell_type": "code",
   "execution_count": 8,
   "id": "d1dd12de",
   "metadata": {},
   "outputs": [
    {
     "name": "stdout",
     "output_type": "stream",
     "text": [
      "https://www.reddit.com/api/v1/authorize?client_id=b8-enduzm4uOxQGYte03yg&response_type=code&state=random_123&redirect_uri=https%3A%2F%2Fwww.google.com%2F&scope=read\n"
     ]
    }
   ],
   "source": [
    "data ={'client_id':'b8-enduzm4uOxQGYte03yg' , 'response_type': 'code','state':'random_123',\n",
    "       'redirect_uri' :'https://www.google.com/' , 'scope' :'read'}\n",
    "response = requests.get('https://www.reddit.com/api/v1/authorize', params = data)\n",
    "print(response.url)"
   ]
  },
  {
   "cell_type": "markdown",
   "id": "74132282",
   "metadata": {},
   "source": [
    "auth code - code=D1ylueMIB1Lze1mn4aKHEThkqEO_yA#_"
   ]
  },
  {
   "cell_type": "code",
   "execution_count": 7,
   "id": "8e0b162f",
   "metadata": {},
   "outputs": [
    {
     "name": "stdout",
     "output_type": "stream",
     "text": [
      "{\"message\": \"Bad Request\", \"error\": 400}\n"
     ]
    }
   ],
   "source": [
    "data = {'grant_type' : 'authorization_code', 'code':'D1ylueMIB1Lze1mn4aKHEThkqEO_yA#_',\n",
    "        'redirect_uri' :'https://www.google.com/' }\n",
    "r =requests.post('https://www.reddit.com/api/v1/access_token' , data = data,\n",
    "                auth =('b8-enduzm4uOxQGYte03yg','gwoy4CRgsl6wv9BCZkE4RZSpUs5-Xw'),headers ={'User-Agent' : 'aditya'} )\n",
    "print(r.text)"
   ]
  },
  {
   "cell_type": "code",
   "execution_count": null,
   "id": "350ba5c5",
   "metadata": {},
   "outputs": [],
   "source": []
  }
 ],
 "metadata": {
  "kernelspec": {
   "display_name": "Python 3 (ipykernel)",
   "language": "python",
   "name": "python3"
  },
  "language_info": {
   "codemirror_mode": {
    "name": "ipython",
    "version": 3
   },
   "file_extension": ".py",
   "mimetype": "text/x-python",
   "name": "python",
   "nbconvert_exporter": "python",
   "pygments_lexer": "ipython3",
   "version": "3.9.13"
  }
 },
 "nbformat": 4,
 "nbformat_minor": 5
}
