{
 "cells": [
  {
   "cell_type": "code",
   "execution_count": 4,
   "id": "5c044dbe",
   "metadata": {},
   "outputs": [
    {
     "name": "stdout",
     "output_type": "stream",
     "text": [
      "<class 'str'>\n"
     ]
    },
    {
     "data": {
      "text/plain": [
       "\"'Lorem ipsum dolor sit amet, consectetur adipiscing elit. Vivamus condimentum sagittis lacus, laoreet'\\nLorem ipsum dolor sit amet, consectetur adipiscing elit. Vivamus condimentum sagittis lacus, laoreet luctus ligula laoreet ut. Vestibulum ullamcorper accumsan velit vel vehicula. Proin tempor lacus arcu. Nunc at elit condimentum, semper nisi et, condimentum mi. In venenatis blandit nibh at sollicitudin. Vestibulum dapibus mauris at orci maximus pellentesque. Nullam id elementum ipsum. Suspendisse cursus lobortis viverra. Proin et erat at mauris tincidunt porttitor vitae ac dui.\\n\\nDonec vulputate lorem tortor, nec fermentum nibh bibendum vel. Lorem ipsum dolor sit amet, consectetur adipiscing elit. Praesent dictum luctus massa, non euismod lacus. Pellentesque condimentum dolor est, ut dapibus lectus luctus ac. Ut sagittis commodo arcu. Integer nisi nulla, facilisis sit amet nulla quis, eleifend suscipit purus. Class aptent taciti sociosqu ad litora torquent per conubia nostra, per inceptos himenaeos. Aliquam euismod ultrices lorem, sit amet imperdiet est tincidunt vel. Phasellus dictum justo sit amet ligula varius aliquet auctor et metus. Fusce vitae tortor et nisi pulvinar vestibulum eget in risus. Donec ante ex, placerat a lorem eget, ultricies bibendum purus. Nam sit amet neque non ante laoreet rutrum. Nullam aliquet commodo urna, sed ullamcorper odio feugiat id. Mauris nisi sapien, porttitor in condimentum nec, venenatis eu urna. Pellentesque feugiat diam est, at rhoncus orci porttitor non.\\n\\nNulla luctus sem sit amet nisi consequat, id ornare ipsum dignissim. Sed elementum elit nibh, eu condimentum orci viverra quis. Aenean suscipit vitae felis non suscipit. Suspendisse pharetra turpis non eros semper dictum. Etiam tincidunt venenatis venenatis. Praesent eget gravida lorem, ut congue diam. Etiam facilisis elit at porttitor egestas. Praesent consequat, velit non vulputate convallis, ligula diam sagittis urna, in venenatis nisi justo ut mauris. Vestibulum posuere sollicitudin mi, et vulputate nisl fringilla non. Nulla ornare pretium velit a euismod. Nunc sagittis venenatis vestibulum. Nunc sodales libero a est ornare ultricies. Sed sed leo sed orci pellentesque ultrices. Mauris sollicitudin, sem quis placerat ornare, velit arcu convallis ligula, pretium finibus nisl sapien vel sem. Vivamus sit amet tortor id lorem consequat hendrerit. Nullam at dui risus.\""
      ]
     },
     "execution_count": 4,
     "metadata": {},
     "output_type": "execute_result"
    }
   ],
   "source": [
    "file_obj=open('Sample.txt','r')\n",
    "file_data =file_obj.read()\n",
    "print (type(file_data))\n",
    "file_data\n"
   ]
  },
  {
   "cell_type": "code",
   "execution_count": 6,
   "id": "e08e78e6",
   "metadata": {},
   "outputs": [
    {
     "data": {
      "text/plain": [
       "\"'Lorem ipsum dolor sit amet, consectetur adipiscing elit. Vivamus condimentum sagittis lacus, laoreet'\\nLorem ipsum dolor sit amet, consectetur adipisc\""
      ]
     },
     "execution_count": 6,
     "metadata": {},
     "output_type": "execute_result"
    }
   ],
   "source": [
    "file_obj=open('Sample.txt','r')\n",
    "file_data =file_obj.read(150)\n",
    "file_data"
   ]
  },
  {
   "cell_type": "code",
   "execution_count": 8,
   "id": "a8362fee",
   "metadata": {},
   "outputs": [
    {
     "name": "stdout",
     "output_type": "stream",
     "text": [
      "'Lorem ipsum dolor sit amet, consectetur adipiscing elit. Vivamus condimentum sagittis lacus, laoreet'\n",
      "\n",
      "Lorem ipsum dolor sit amet, consectetur adipiscing elit. Vivamus condimentum sagittis lacus, laoreet luctus ligula laoreet ut. Vestibulum ullamcorper accumsan velit vel vehicula. Proin tempor lacus arcu. Nunc at elit condimentum, semper nisi et, condimentum mi. In venenatis blandit nibh at sollicitudin. Vestibulum dapibus mauris at orci maximus pellentesque. Nullam id elementum ipsum. Suspendisse cursus lobortis viverra. Proin et erat at mauris tincidunt porttitor vitae ac dui.\n",
      "\n"
     ]
    }
   ],
   "source": [
    "file_obj=open('Sample.txt','r')\n",
    "file_data =file_obj.readline()\n",
    "print(file_data)\n",
    "print(file_obj.readline())"
   ]
  },
  {
   "cell_type": "code",
   "execution_count": 13,
   "id": "09b34634",
   "metadata": {},
   "outputs": [
    {
     "name": "stdout",
     "output_type": "stream",
     "text": [
      "<class 'list'>\n",
      "6\n",
      "Donec vulputate lorem tortor, nec fermentum nibh bibendum vel. Lorem ipsum dolor sit amet, consectetur adipiscing elit. Praesent dictum luctus massa, non euismod lacus. Pellentesque condimentum dolor est, ut dapibus lectus luctus ac. Ut sagittis commodo arcu. Integer nisi nulla, facilisis sit amet nulla quis, eleifend suscipit purus. Class aptent taciti sociosqu ad litora torquent per conubia nostra, per inceptos himenaeos. Aliquam euismod ultrices lorem, sit amet imperdiet est tincidunt vel. Phasellus dictum justo sit amet ligula varius aliquet auctor et metus. Fusce vitae tortor et nisi pulvinar vestibulum eget in risus. Donec ante ex, placerat a lorem eget, ultricies bibendum purus. Nam sit amet neque non ante laoreet rutrum. Nullam aliquet commodo urna, sed ullamcorper odio feugiat id. Mauris nisi sapien, porttitor in condimentum nec, venenatis eu urna. Pellentesque feugiat diam est, at rhoncus orci porttitor non.\n",
      "\n"
     ]
    }
   ],
   "source": [
    "file_obj=open('Sample.txt','r')\n",
    "file_data =file_obj.readlines()\n",
    "print(type(file_data))\n",
    "print(len(file_data))\n",
    "print(file_data[3])"
   ]
  },
  {
   "cell_type": "code",
   "execution_count": 14,
   "id": "a34ee073",
   "metadata": {},
   "outputs": [
    {
     "name": "stdout",
     "output_type": "stream",
     "text": [
      "Lorem ipsum dolor sit amet, consectetur adipiscing elit. Vivamus condimentum sagittis lacus, laoreet luctus ligula laoreet ut. Vestibulum ullamcorper accumsan velit vel vehicula. Proin tempor lacus arcu. Nunc at elit condimentum, semper nisi et, condimentum mi. In venenatis blandit nibh at sollicitudin. Vestibulum dapibus mauris at orci maximus pellentesque. Nullam id elementum ipsum. Suspendisse cursus lobortis viverra. Proin et erat at mauris tincidunt porttitor vitae ac dui.\n",
      "\n"
     ]
    }
   ],
   "source": [
    "with open('Sample.txt','r') as file_obj:\n",
    "    file_data = file_obj.readlines()\n",
    "    print(file_data[1])"
   ]
  },
  {
   "cell_type": "markdown",
   "id": "bba5f9bd",
   "metadata": {},
   "source": [
    "# for csv file\n"
   ]
  },
  {
   "cell_type": "code",
   "execution_count": 2,
   "id": "3fbb7396",
   "metadata": {},
   "outputs": [
    {
     "name": "stdout",
     "output_type": "stream",
     "text": [
      "['\"      \"\"[\\'Year\", Month, Day, Country, Region, city, latitude, longitude, AttackType, Killed, Wounded, Target, Group, Target_type, Weapon_type, casualities\\\\\\\\n\\', \\'2017,,,\\n', '\"      \"\"[\\'Year\\'\", \\' Month\\', \\' Day\\', \\' Afghanistan\\', \\' South Asia\\', \\' Takhta Pul\\', \\' 31.320556\\', \\' 65.961111\\', \\' Hostage Taking (Kidnapping)\\', \\' 0.0\\', \\' 0.0\\', \\' Construction Workers\\', \\' Taliban\\', \\' Business\\', \\' Firearms\\',\" \\' 0.0\\']\\\\n\"\"\",,,,\\n', '\"      \"\"[\\'2017\\'\", \\' 1\\', \\' 2\\', \\' Sudan\\', \\' Sub-Saharan Africa\\', \\' Fantaga\\', \\' 12.921007000000001\\', \\' 24.318324\\', \\' Armed Assault\\', \\' 2.0\\', \\' 0.0\\',\" \\' \\\\\"\"Civilians: Haroun Yousif\\'\",\" \\'  Hamid Ibrahim\\\\\"\"\\'\", \\' Unknown\\', \\' Private Citizens & Property\\', \\' Firearms\\',,,,\\n', '\"      \"\"[\\'2017\\'\", \\' 1\\', \\' 3\\', \\' Democratic Republic of the Congo\\', \\' Sub-Saharan Africa\\', \\' Saboko\\', \\' 1.452372\\', \\' 29.875162\\', \\' Armed Assault\\', \\' 7.0\\', \\' 0.0\\', \\' Village\\', \\' Allied Democratic Forces (ADF)\\', \\' Private Citizens & Property\\', \\' Melee\\',\" \\' 7.0\\']\\\\n\"\"\",,,,\\n', '\"      \"\"[\\'2017\\'\", \\' 1\\', \\' 1\\', \\' Democratic Republic of the Congo\\', \\' Sub-Saharan Africa\\', \\' Bialee\\', \\' 1.4523700000000002\\', \\' 29.875186\\', \\' Armed Assault\\', \\' 7.0\\', \\' 0.0\\', \\' Village\\', \\' Allied Democratic Forces (ADF)\\', \\' Private Citizens & Property\\', \\' Melee\\',\" \\' 7.0\\']\\\\n\"\"\",,,,\\n']\n"
     ]
    }
   ],
   "source": [
    "with open('Dataset2017.csv','r') as file_obj:\n",
    "    file_data = file_obj.readlines()\n",
    "\n",
    "print(file_data[:5])"
   ]
  },
  {
   "cell_type": "code",
   "execution_count": 7,
   "id": "317eccb3",
   "metadata": {},
   "outputs": [
    {
     "name": "stdout",
     "output_type": "stream",
     "text": [
      "<_csv.reader object at 0x000002865B2220A0>\n"
     ]
    }
   ],
   "source": [
    "import csv\n",
    "with open(\"C:\\\\Users\\\\HP\\\\Downloads\\\\archive\\\\globalterrorismdb_0718dist.csv\",'r') as file_obj:\n",
    "    file_data = csv.reader(file_obj)\n",
    "print(file_data)"
   ]
  },
  {
   "cell_type": "code",
   "execution_count": null,
   "id": "24581070",
   "metadata": {},
   "outputs": [],
   "source": []
  }
 ],
 "metadata": {
  "kernelspec": {
   "display_name": "Python 3 (ipykernel)",
   "language": "python",
   "name": "python3"
  },
  "language_info": {
   "codemirror_mode": {
    "name": "ipython",
    "version": 3
   },
   "file_extension": ".py",
   "mimetype": "text/x-python",
   "name": "python",
   "nbconvert_exporter": "python",
   "pygments_lexer": "ipython3",
   "version": "3.9.13"
  }
 },
 "nbformat": 4,
 "nbformat_minor": 5
}
