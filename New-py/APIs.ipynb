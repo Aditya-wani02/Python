{
 "cells": [
  {
   "cell_type": "code",
   "execution_count": 2,
   "id": "ed5ae759",
   "metadata": {},
   "outputs": [
    {
     "name": "stdout",
     "output_type": "stream",
     "text": [
      "200\n",
      "ISO-8859-1\n",
      "https://www.codingninjas.com:443/\n",
      "{'Content-Type': 'text/html', 'Transfer-Encoding': 'chunked', 'Connection': 'keep-alive', 'x-amz-id-2': 'McDzSxMmVVvppLqvQnZ3NtKXVxHzaKKxZgwNYA53BuFRyPhUGEEg8L0GbOqI8PxCVcOqjcX8Hm4=', 'x-amz-request-id': 'SYZKECRFXX74GKKC', 'Date': 'Sat, 04 Mar 2023 07:33:20 GMT', 'Last-Modified': 'Sat, 04 Mar 2023 07:26:49 GMT', 'ETag': 'W/\"e36be0f829b58af4564a1ef0fc79bb1a\"', 'Server': 'AmazonS3', 'Content-Encoding': 'br', 'Vary': 'Accept-Encoding', 'X-Cache': 'Hit from cloudfront', 'Via': '1.1 4ebba0c5401e3e42b9618d74bf6dd704.cloudfront.net (CloudFront)', 'X-Amz-Cf-Pop': 'BOM78-P6', 'X-Amz-Cf-Id': 'zgVt8OWkI4M5HtOC0mh5ZbwCTo0rAQ24Bzgc_lg1r9_oPggPk0HRKw==', 'Age': '2480', 'cache-control': 'must-revalidate, max-age=300'}\n",
      "Sat, 04 Mar 2023 07:33:20 GMT\n",
      "<class 'str'>\n"
     ]
    }
   ],
   "source": [
    "import requests\n",
    "r = requests.get(\"https://codingninjas.in/api/v3/courses\")\n",
    "print(r.status_code)\n",
    "print(r.encoding)\n",
    "# print(r.text)\n",
    "print(r.url)\n",
    "print(r.headers)\n",
    "header_info = r.headers\n",
    "print(header_info['Date'])\n",
    "\n",
    "print(type(r.text))"
   ]
  },
  {
   "cell_type": "code",
   "execution_count": 3,
   "id": "4a4fa488",
   "metadata": {},
   "outputs": [],
   "source": [
    "import json"
   ]
  },
  {
   "cell_type": "code",
   "execution_count": 13,
   "id": "7f0bb11c",
   "metadata": {},
   "outputs": [],
   "source": [
    "json_data = '{\"Student\": \"Mohit\"}'\n",
    "python_data = json.loads(json_data)"
   ]
  },
  {
   "cell_type": "code",
   "execution_count": 14,
   "id": "1cf5c9b5",
   "metadata": {},
   "outputs": [
    {
     "name": "stdout",
     "output_type": "stream",
     "text": [
      "{'Student': 'Mohit'}\n",
      "<class 'dict'>\n",
      "Mohit\n"
     ]
    }
   ],
   "source": [
    "print(python_data)\n",
    "print(type(python_data))\n",
    "print(python_data['Student'])"
   ]
  },
  {
   "cell_type": "code",
   "execution_count": 15,
   "id": "4afc535f",
   "metadata": {},
   "outputs": [],
   "source": [
    "jd = '{\"rollno\" : 101}'"
   ]
  },
  {
   "cell_type": "code",
   "execution_count": 16,
   "id": "3683761d",
   "metadata": {},
   "outputs": [
    {
     "name": "stdout",
     "output_type": "stream",
     "text": [
      "{'rollno': 101}\n"
     ]
    }
   ],
   "source": [
    "pd = json.loads(jd)\n",
    "print(pd)"
   ]
  },
  {
   "cell_type": "code",
   "execution_count": 18,
   "id": "d7db48aa",
   "metadata": {},
   "outputs": [
    {
     "name": "stdout",
     "output_type": "stream",
     "text": [
      "Mohit\n",
      "101\n"
     ]
    }
   ],
   "source": [
    "jd = '{\"Student\" :{\"Name\": \"Mohit\" , \"Rollno\" : 101}}'\n",
    "\n",
    "pd = json.loads(jd)\n",
    "\n",
    "student_details = pd['Student']\n",
    "print(student_details['Name'])\n",
    "print(student_details['Rollno'])"
   ]
  },
  {
   "cell_type": "code",
   "execution_count": 22,
   "id": "0ca75957",
   "metadata": {},
   "outputs": [
    {
     "name": "stdout",
     "output_type": "stream",
     "text": [
      "['Apple', 'Orange', 'Mango', 'Guava']\n"
     ]
    }
   ],
   "source": [
    "jd = '{\"Fruits\" : [\"Apple\" , \"Orange\" , \"Mango\" ,\"Guava\"]}'\n",
    "\n",
    "pd = json.loads(jd)\n",
    "\n",
    "\n",
    "print(pd['Fruits'])\n",
    "print(type(pd['Fruits']))"
   ]
  },
  {
   "cell_type": "code",
   "execution_count": 8,
   "id": "c3f59daf",
   "metadata": {},
   "outputs": [
    {
     "name": "stdout",
     "output_type": "stream",
     "text": [
      "<class 'dict'>\n",
      "affenpinscher : 0\n",
      "african : 0\n",
      "airedale : 0\n",
      "akita : 0\n",
      "appenzeller : 0\n",
      "australian : 1\n",
      "basenji : 0\n",
      "beagle : 0\n",
      "bluetick : 0\n",
      "borzoi : 0\n",
      "bouvier : 0\n",
      "boxer : 0\n",
      "brabancon : 0\n",
      "briard : 0\n",
      "buhund : 1\n",
      "bulldog : 3\n",
      "bullterrier : 1\n",
      "cattledog : 1\n",
      "chihuahua : 0\n",
      "chow : 0\n",
      "clumber : 0\n",
      "cockapoo : 0\n",
      "collie : 1\n",
      "coonhound : 0\n",
      "corgi : 1\n",
      "cotondetulear : 0\n",
      "dachshund : 0\n",
      "dalmatian : 0\n",
      "dane : 1\n",
      "deerhound : 1\n",
      "dhole : 0\n",
      "dingo : 0\n",
      "doberman : 0\n",
      "elkhound : 1\n",
      "entlebucher : 0\n",
      "eskimo : 0\n",
      "finnish : 1\n",
      "frise : 1\n",
      "germanshepherd : 0\n",
      "greyhound : 1\n",
      "groenendael : 0\n",
      "havanese : 0\n",
      "hound : 7\n",
      "husky : 0\n",
      "keeshond : 0\n",
      "kelpie : 0\n",
      "komondor : 0\n",
      "kuvasz : 0\n",
      "labradoodle : 0\n",
      "labrador : 0\n",
      "leonberg : 0\n",
      "lhasa : 0\n",
      "malamute : 0\n",
      "malinois : 0\n",
      "maltese : 0\n",
      "mastiff : 3\n",
      "mexicanhairless : 0\n",
      "mix : 0\n",
      "mountain : 2\n",
      "newfoundland : 0\n",
      "otterhound : 0\n",
      "ovcharka : 1\n",
      "papillon : 0\n",
      "pekinese : 0\n",
      "pembroke : 0\n",
      "pinscher : 1\n",
      "pitbull : 0\n",
      "pointer : 2\n",
      "pomeranian : 0\n",
      "poodle : 4\n",
      "pug : 0\n",
      "puggle : 0\n",
      "pyrenees : 0\n",
      "redbone : 0\n",
      "retriever : 4\n",
      "ridgeback : 1\n",
      "rottweiler : 0\n",
      "saluki : 0\n",
      "samoyed : 0\n",
      "schipperke : 0\n",
      "schnauzer : 2\n",
      "segugio : 1\n",
      "setter : 3\n",
      "sharpei : 0\n",
      "sheepdog : 2\n",
      "shiba : 0\n",
      "shihtzu : 0\n",
      "spaniel : 7\n",
      "spitz : 1\n",
      "springer : 1\n",
      "stbernard : 0\n",
      "terrier : 23\n",
      "tervuren : 0\n",
      "vizsla : 0\n",
      "waterdog : 1\n",
      "weimaraner : 0\n",
      "whippet : 0\n",
      "wolfhound : 1\n"
     ]
    }
   ],
   "source": [
    "import requests\n",
    "p = requests.get('https://dog.ceo/api/breeds/list/all')\n",
    "# print(p.text)\n",
    "pd = p.json()\n",
    "print(type(pd))\n",
    "# print(pd)\n",
    "for key,val in pd['message'].items():\n",
    "    print(key , \":\" ,len(val))"
   ]
  },
  {
   "cell_type": "code",
   "execution_count": 1,
   "id": "57cbce1f",
   "metadata": {},
   "outputs": [],
   "source": [
    "import requests as rqt"
   ]
  },
  {
   "cell_type": "code",
   "execution_count": 28,
   "id": "4fa23a68",
   "metadata": {},
   "outputs": [
    {
     "name": "stdout",
     "output_type": "stream",
     "text": [
      "200\n",
      "Machine Learning\n"
     ]
    }
   ],
   "source": [
    "resp = rqt.get('https://api.codingninjas.com/api/v3/courses' )\n",
    "print(resp.status_code)\n",
    "# print(resp.json())\n",
    "data = resp.json()\n",
    "\n",
    "for i in data ['data']['courses']:\n",
    "    if(i[\"id\"] == 19):\n",
    "        print(i['title'])"
   ]
  },
  {
   "cell_type": "code",
   "execution_count": 39,
   "id": "d20694dd",
   "metadata": {},
   "outputs": [
    {
     "name": "stdout",
     "output_type": "stream",
     "text": [
      "200\n",
      "{'data': {'courses': [{'id': 41, 'title': 'Premium Competitive Course', 'online_title': 'premium-competitive-course', 'offline_title': '', 'name': 'Premium Competitive Programming Course', 'level': 'Foundation Courses', 'brief_intro': '', 'preview_image_url': '', 'available_online': True, 'available_offline': False, 'is_career_track': False, 'course_group_id': 7, 'classroom_icon_url': 'https://files.codingninjas.in/0000000000003765.png'}, {'id': 1, 'title': 'C++ & Data Structures', 'online_title': 'onlline-c-plus-plus-course', 'offline_title': 'classroom-c-plus-plus-course', 'name': 'C++ Foundation with Data Structures', 'level': 'Foundation Courses', 'brief_intro': 'Brief Intro', 'preview_image_url': 'https://files.codingninjas.in/0000000000001176.png', 'available_online': True, 'available_offline': False, 'is_career_track': False, 'course_group_id': 1, 'classroom_icon_url': 'https://files.codingninjas.in/0000000000003771.png'}, {'id': 103, 'title': 'Aptitude for professionals', 'online_title': 'prof-aptitude-preparation', 'offline_title': '', 'name': 'Aptitude for professionals', 'level': 'Foundation Courses', 'brief_intro': 'Develop your ability to explore the logic behind different problem-solving strategies & learn time saving strategies to solve problems for Verbal, Logical Thinking and Data Interpretation', 'preview_image_url': '', 'available_online': True, 'available_offline': False, 'is_career_track': False, 'course_group_id': 7, 'classroom_icon_url': ''}, {'id': 43, 'title': 'Premium Data Science Course', 'online_title': 'premium-data-science-course', 'offline_title': '', 'name': 'Premium Data Science Course', 'level': 'Foundation Courses', 'brief_intro': '', 'preview_image_url': '', 'available_online': True, 'available_offline': False, 'is_career_track': False, 'course_group_id': 7, 'classroom_icon_url': 'https://files.codingninjas.com/data-science-11645.png'}, {'id': 45, 'title': 'Premium Android Course', 'online_title': 'premium-android-app-development-course', 'offline_title': '', 'name': 'Premium Android App Development', 'level': 'Foundation Courses', 'brief_intro': '', 'preview_image_url': '', 'available_online': True, 'available_offline': False, 'is_career_track': False, 'course_group_id': 7, 'classroom_icon_url': 'https://files.codingninjas.in/0000000000003765.png'}, {'id': 44, 'title': 'Premium Machine Learning Course', 'online_title': 'premium-machine-learning-course', 'offline_title': '', 'name': 'Premium Machine Learning Course', 'level': 'Foundation Courses', 'brief_intro': '', 'preview_image_url': '', 'available_online': True, 'available_offline': False, 'is_career_track': False, 'course_group_id': 7, 'classroom_icon_url': 'https://files.codingninjas.in/0000000000003765.png'}, {'id': 40, 'title': 'Data structures and Algorithms [C++/Java/Python]', 'online_title': 'premium-foundation-course', 'offline_title': '', 'name': 'Premium Data structures and Algorithms [C++/Java/Python]', 'level': 'Foundation Courses', 'brief_intro': '', 'preview_image_url': '', 'available_online': True, 'available_offline': False, 'is_career_track': False, 'course_group_id': 7, 'classroom_icon_url': 'https://files.codingninjas.in/0000000000003765.png'}, {'id': 73, 'title': 'System Design Course', 'online_title': 'system-design-course', 'offline_title': '', 'name': 'System Design Course', 'level': 'Foundation Courses', 'brief_intro': 'Brief Intro', 'preview_image_url': 'https://ninjasfiles.s3.amazonaws.com/0000000000001178.png', 'available_online': True, 'available_offline': False, 'is_career_track': False, 'course_group_id': 1, 'classroom_icon_url': 'https://files.codingninjas.com/system-design-icon-11401.svg'}, {'id': 16, 'title': 'Competitive Programmer', 'online_title': 'online-competitive-programming-track', 'offline_title': '', 'name': 'Ninja Competitive Programmer Track', 'level': 'Career Tracks', 'brief_intro': 'Competitive Track', 'preview_image_url': 'https://files.codingninjas.in/0000000000001177.png', 'available_online': True, 'available_offline': False, 'is_career_track': True, 'course_group_id': 3, 'classroom_icon_url': 'https://files.codingninjas.com/competitive-programming-11703.svg'}, {'id': 42, 'title': 'Premium Web Dev Course', 'online_title': 'premium-full-stack-web-development-course', 'offline_title': '', 'name': 'Premium Full Stack Web Development', 'level': 'Foundation Courses', 'brief_intro': '', 'preview_image_url': '', 'available_online': True, 'available_offline': False, 'is_career_track': False, 'course_group_id': 7, 'classroom_icon_url': 'https://files.codingninjas.in/0000000000003765.png'}, {'id': 6, 'title': 'Machine Learning', 'online_title': 'online-machine-learning-course', 'offline_title': 'classroom-machine-learning-course', 'name': 'Machine Learning & Deep Learning Course', 'level': 'Advanced Courses', 'brief_intro': 'Machine learning engineers build, implement, and maintain machine learning systems in technology products.', 'preview_image_url': 'https://ninjasfiles.s3.amazonaws.com/0000000000001181.png', 'available_online': True, 'available_offline': False, 'is_career_track': False, 'course_group_id': 2, 'classroom_icon_url': 'https://files.codingninjas.in/0000000000003766.png'}, {'id': 34, 'title': 'Front End (React)', 'online_title': 'online-web-dev-with-react', 'offline_title': '', 'name': 'Advanced  Front-End Web Development with React', 'level': 'Development Courses', 'brief_intro': 'Advanced  Front-End Web Development with React', 'preview_image_url': 'https://ninjasfiles.s3.amazonaws.com/0000000000001179.png', 'available_online': True, 'available_offline': False, 'is_career_track': False, 'course_group_id': 2, 'classroom_icon_url': 'https://files.codingninjas.in/0000000000003769.png'}, {'id': 2, 'title': 'Java & Data Structures', 'online_title': 'online-java-course', 'offline_title': 'classroom-java-course', 'name': 'JAVA Foundation with Data Structures', 'level': 'Foundation Courses', 'brief_intro': 'Brief Intro', 'preview_image_url': 'https://ninjasfiles.s3.amazonaws.com/0000000000001255.png', 'available_online': True, 'available_offline': False, 'is_career_track': False, 'course_group_id': 1, 'classroom_icon_url': 'https://files.codingninjas.in/0000000000003772.png'}, {'id': 35, 'title': 'Android Developer', 'online_title': 'online-android-development-career-track', 'offline_title': '', 'name': 'Ninja Android Developer Career Track ', 'level': 'Career Tracks', 'brief_intro': 'beginner to pro Android Developer!', 'preview_image_url': 'https://ninjasfiles.s3.amazonaws.com/0000000000001175.png', 'available_online': True, 'available_offline': False, 'is_career_track': True, 'course_group_id': 3, 'classroom_icon_url': 'https://files.codingninjas.in/0000000000003774.png'}, {'id': 12, 'title': 'Web Dev (Full Stack)', 'online_title': 'online-full-stack-node-js-web-dev-course', 'offline_title': '', 'name': 'Full Stack Web Development', 'level': 'Development Courses', 'brief_intro': 'Web Development', 'preview_image_url': 'https://ninjasfiles.s3.amazonaws.com/0000000000001179.png', 'available_online': True, 'available_offline': False, 'is_career_track': False, 'course_group_id': 2, 'classroom_icon_url': 'https://files.codingninjas.in/0000000000003764.png'}, {'id': 4, 'title': 'Interview Preparation', 'online_title': 'online-interview-preparation', 'offline_title': 'classroom-interview-preparation', 'name': 'Interview Preparation Course', 'level': 'Advanced Courses', 'brief_intro': 'Brief Intro', 'preview_image_url': 'https://ninjasfiles.s3.amazonaws.com/0000000000001178.png', 'available_online': True, 'available_offline': False, 'is_career_track': False, 'course_group_id': 1, 'classroom_icon_url': 'https://files.codingninjas.in/0000000000003765.png'}, {'id': 13, 'title': 'Data Science', 'online_title': 'online-data-science-course', 'offline_title': '', 'name': 'Data Science & Machine Learning Complete', 'level': 'Advanced Courses', 'brief_intro': 'Brief Intro', 'preview_image_url': 'https://ninjasfiles.s3.amazonaws.com/0000000000001371.png', 'available_online': True, 'available_offline': False, 'is_career_track': False, 'course_group_id': 2, 'classroom_icon_url': 'https://files.codingninjas.in/0000000000003763.png'}, {'id': 66, 'title': 'Grokking the Operating Systems Interview', 'online_title': 'operating-system', 'offline_title': '', 'name': 'Grokking the Operating Systems Interview', 'level': 'Foundation Courses', 'brief_intro': 'Brief Intro', 'preview_image_url': 'https://ninjasfiles.s3.amazonaws.com/0000000000001178.png', 'available_online': True, 'available_offline': False, 'is_career_track': False, 'course_group_id': 1, 'classroom_icon_url': 'https://files.codingninjas.in/ubuntu-brands-10404.png'}, {'id': 36, 'title': 'Python & Web Dev (MERN)', 'online_title': 'ninja-web-developer-career-track-mern-stack', 'offline_title': '', 'name': 'Ninja  Web Developer Career Track - NodeJS & ReactJs', 'level': 'Career Tracks', 'brief_intro': 'Programming foundation + MERN Stack Web Development complete Career Track', 'preview_image_url': 'https://ninjasfiles.s3.amazonaws.com/0000000000001179.png', 'available_online': True, 'available_offline': False, 'is_career_track': True, 'course_group_id': 3, 'classroom_icon_url': 'https://files.codingninjas.in/0000000000003777.png'}, {'id': 17, 'title': 'C++ & Web Dev (Node.js)', 'online_title': 'web-developer-career-track', 'offline_title': '', 'name': 'Ninja  Web Developer Career Track - NodeJS', 'level': 'Career Tracks', 'brief_intro': 'Programming foundation + Full Stack Web Development Career Track', 'preview_image_url': 'https://ninjasfiles.s3.amazonaws.com/0000000000001179.png', 'available_online': True, 'available_offline': False, 'is_career_track': True, 'course_group_id': 3, 'classroom_icon_url': 'https://files.codingninjas.in/0000000000003777.png'}, {'id': 10, 'title': 'Competitive Programming', 'online_title': 'online-competitive-programming-course', 'offline_title': '', 'name': 'Competitive Programming Course', 'level': 'Advanced Courses', 'brief_intro': 'Eminence', 'preview_image_url': 'https://ninjasfiles.s3.amazonaws.com/0000000000001177.png', 'available_online': True, 'available_offline': False, 'is_career_track': False, 'course_group_id': 1, 'classroom_icon_url': 'https://files.codingninjas.in/0000000000003762.png'}, {'id': 33, 'title': 'Android (Kotlin)', 'online_title': 'online-android-Development-kotlin', 'offline_title': '', 'name': 'Android Development with Kotlin', 'level': 'Development Courses', 'brief_intro': 'Android Development Kotlin', 'preview_image_url': 'https://ninjasfiles.s3.amazonaws.com/0000000000001175.png', 'available_online': True, 'available_offline': False, 'is_career_track': False, 'course_group_id': 2, 'classroom_icon_url': 'https://files.codingninjas.in/0000000000003761.png'}, {'id': 11, 'title': 'Python & Data Structures', 'online_title': 'online-python-course', 'offline_title': 'offline-python-course', 'name': 'Python Foundation with Data Structures', 'level': 'Foundation Courses', 'brief_intro': 'Python Foundation', 'preview_image_url': 'https://ninjasfiles.s3.amazonaws.com/0000000000001282.png', 'available_online': True, 'available_offline': False, 'is_career_track': False, 'course_group_id': 1, 'classroom_icon_url': 'https://files.codingninjas.in/0000000000003773.png'}, {'id': 18, 'title': 'Data Scientist', 'online_title': 'data-Scientist-career-track', 'offline_title': '', 'name': 'Ninja Data Scientist Career Track', 'level': 'Career Tracks', 'brief_intro': 'Programming foundation + Data Science with ML career track', 'preview_image_url': 'https://ninjasfiles.s3.amazonaws.com/0000000000001371.png', 'available_online': True, 'available_offline': False, 'is_career_track': True, 'course_group_id': 3, 'classroom_icon_url': 'https://files.codingninjas.in/0000000000003778.png'}, {'id': 19, 'title': 'Machine Learning', 'online_title': 'machine-learning-engineer-career-track', 'offline_title': '', 'name': 'Ninja Machine Learning Engineer Career Track', 'level': 'Career Tracks', 'brief_intro': 'Programming foundation + Machine Learning career track', 'preview_image_url': 'https://ninjasfiles.s3.amazonaws.com/0000000000001181.png', 'available_online': True, 'available_offline': False, 'is_career_track': True, 'course_group_id': 3, 'classroom_icon_url': 'https://files.codingninjas.in/0000000000003776.png'}, {'id': 21, 'title': 'Aptitude Preparation', 'online_title': 'online-aptitude-preparation', 'offline_title': '', 'name': 'Aptitude Preparation Course', 'level': 'Foundation Courses', 'brief_intro': 'Brief Intro', 'preview_image_url': 'https://ninjasfiles.s3.amazonaws.com/0000000000001178.png', 'available_online': True, 'available_offline': False, 'is_career_track': False, 'course_group_id': 1, 'classroom_icon_url': 'https://files.codingninjas.in/0000000000003770.png'}], 'course_groups': [{'id': 1, 'name': 'Foundation, Algorithmic & Advanced', 'order': 1, 'course_ids': [1, 73, 2, 4, 66, 10, 11, 21], 'json_data': {'color': '#FFEBC2', 'image_link': 'https://ninjasfiles.s3.amazonaws.com/0000000000003821.png', 'text_color': '#AC933C', 'short_description': 'Foundation courses are designed such that\\xa0<strong>no prerequisites are required.</strong>\\xa0Data Structures(DS) and Algorithms(algo.) parts build on the basics to give you a\\xa0<strong>solid programming foundation</strong>.\\xa0Competitive is where you start to\\xa0<strong>push the boundaries!</strong>', 'mobile_short_description': 'Foundation courses are designed such that\\xa0<span>no prerequisites are required.</span>'}, 'is_independent': False}, {'id': 2, 'name': 'Data & Development', 'order': 2, 'course_ids': [6, 34, 12, 13, 33], 'json_data': {'color': '#80D4B1', 'image_link': 'https://files.codingninjas.in/0000000000003846.svg', 'text_color': '#257D68', 'short_description': 'Data courses dwell in the state of the art algorithms and require good knowledge of programming fundamentals. Web development courses use modern JavaScript to build powerful and fast applications from the ground up.\\xa0<strong>No prior development experience needed</strong>', 'mobile_short_description': 'Data courses dwell in the state of the art algorithms and require good knowledge of programming fundamentals. Web development courses use modern JavaScript to build powerful and fast applications from the ground up.\\xa0<span>No prior development experience needed</span>'}, 'is_independent': False}, {'id': 3, 'name': 'Career Track', 'order': 3, 'course_ids': [16, 35, 36, 17, 18, 19], 'json_data': {'color': '#C898FF', 'image_link': 'https://files.codingninjas.in/0000000000003845.svg', 'text_color': '#603CAC', 'short_description': 'These are courses that take you from\\xa0<strong>zero to hero</strong>. Each track is designed specifically to cater to a particular goal you can choose and\\xa0<strong>covers everything you need to learn and assumes no prior knowledge.</strong>', 'mobile_short_description': 'Each track is designed specifically to cater to a particular goal you can choose and\\xa0<span>covers everything you need to learn and assumes no prior knowledge.</span>'}, 'is_independent': True}, {'id': 7, 'name': 'Premium Course', 'order': None, 'course_ids': [41, 103, 43, 45, 44, 40, 42], 'json_data': None, 'is_independent': True}]}, 'message': 'Courses', 'status': 200, 'error': None, 'disabled': False, 'update': False, 'external_rating': None}\n",
      "https://api.codingninjas.com/api/v3/courses?title=Machine+Learning\n"
     ]
    }
   ],
   "source": [
    "resp = rqt.get('https://api.codingninjas.com/api/v3/courses'  ,params = {\"title\": \"Machine Learning\" })\n",
    "print(resp.status_code)\n",
    "print(resp.json())\n",
    "# data = resp.json()\n",
    "print(resp.url)"
   ]
  },
  {
   "cell_type": "code",
   "execution_count": 40,
   "id": "6ecb0774",
   "metadata": {},
   "outputs": [
    {
     "name": "stdout",
     "output_type": "stream",
     "text": [
      "200\n",
      "{'meta': {'name': 'openaq-api', 'license': 'CC BY 4.0d', 'website': 'api.openaq.org', 'page': 1, 'limit': 100, 'found': 81}, 'results': [{'country': 'AU', 'name': 'Adelaide', 'city': 'Adelaide', 'count': 516319, 'locations': 8}, {'country': 'AU', 'name': 'Alfredton Fire', 'city': 'Alfredton Fire', 'count': 294, 'locations': 2}, {'country': 'AU', 'name': 'Altona North', 'city': 'Altona North', 'count': 116922, 'locations': 1}, {'country': 'AU', 'name': 'Altona North 1', 'city': 'Altona North 1', 'count': 243, 'locations': 1}, {'country': 'AU', 'name': 'Altona North 2', 'city': 'Altona North 2', 'count': 234, 'locations': 1}, {'country': 'AU', 'name': 'Ayr', 'city': 'Ayr', 'count': 79224, 'locations': 1}, {'country': 'AU', 'name': 'Bairnsdale', 'city': 'Bairnsdale', 'count': 3090, 'locations': 1}, {'country': 'AU', 'name': 'Bendigo', 'city': 'Bendigo', 'count': 50461, 'locations': 1}, {'country': 'AU', 'name': 'Bright', 'city': 'Bright', 'count': 31266, 'locations': 1}, {'country': 'AU', 'name': 'Bright NE Planned Burns', 'city': 'Bright NE Planned Burns', 'count': 309, 'locations': 2}, {'country': 'AU', 'name': 'Bulla North', 'city': 'Bulla North', 'count': 126, 'locations': 1}, {'country': 'AU', 'name': 'Bulla South', 'city': 'Bulla South', 'count': 132, 'locations': 1}, {'country': 'AU', 'name': 'Bushfire Emergency - Lismore', 'city': 'Bushfire Emergency - Lismore', 'count': 16809, 'locations': 1}, {'country': 'AU', 'name': 'Campbellfield', 'city': 'Campbellfield', 'count': 36233, 'locations': 1}, {'country': 'AU', 'name': 'Canberra', 'city': 'Canberra', 'count': 1048827, 'locations': 4}, {'country': 'AU', 'name': 'Cann River', 'city': 'Cann River', 'count': 1980, 'locations': 1}, {'country': 'AU', 'name': 'Central Coast', 'city': 'Central Coast', 'count': 626457, 'locations': 1}, {'country': 'AU', 'name': 'Central Queensland', 'city': 'Central Queensland', 'count': 895252, 'locations': 8}, {'country': 'AU', 'name': 'Central Tablelands', 'city': 'Central Tablelands', 'count': 398630, 'locations': 3}, {'country': 'AU', 'name': 'Churchill', 'city': 'Churchill', 'count': 80573, 'locations': 1}, {'country': 'AU', 'name': 'Geelong', 'city': 'Geelong', 'count': 349248, 'locations': 1}, {'country': 'AU', 'name': 'Gladstone', 'city': 'Gladstone', 'count': 2339251, 'locations': 17}, {'country': 'AU', 'name': 'Healesville', 'city': 'Healesville', 'count': 21122, 'locations': 1}, {'country': 'AU', 'name': 'Illawarra', 'city': 'Illawarra', 'count': 1585727, 'locations': 4}, {'country': 'AU', 'name': 'Incident Monitoring', 'city': 'Incident Monitoring', 'count': 33621, 'locations': 2}, {'country': 'AU', 'name': 'Kealba', 'city': 'Kealba', 'count': 66672, 'locations': 2}, {'country': 'AU', 'name': 'Kingsville', 'city': 'Kingsville', 'count': 40062, 'locations': 1}, {'country': 'AU', 'name': 'Lake Macquarie', 'city': 'Lake Macquarie', 'count': 178095, 'locations': 2}, {'country': 'AU', 'name': 'Lakes Entrance', 'city': 'Lakes Entrance', 'count': 1212, 'locations': 1}, {'country': 'AU', 'name': 'Laverton North', 'city': 'Laverton North', 'count': 177, 'locations': 1}, {'country': 'AU', 'name': 'Lower Hunter', 'city': 'Lower Hunter', 'count': 1627234, 'locations': 3}, {'country': 'AU', 'name': 'Mallacoota', 'city': 'Mallacoota', 'count': 2118, 'locations': 1}, {'country': 'AU', 'name': 'Marlo', 'city': 'Marlo', 'count': 1812, 'locations': 1}, {'country': 'AU', 'name': 'Melbourne', 'city': 'Melbourne', 'count': 1528570, 'locations': 11}, {'country': 'AU', 'name': 'Melton', 'city': 'Melton', 'count': 116307, 'locations': 1}, {'country': 'AU', 'name': 'Merriwa', 'city': 'Merriwa', 'count': 173409, 'locations': 2}, {'country': 'AU', 'name': 'Mid-north Coast', 'city': 'Mid-north Coast', 'count': 531246, 'locations': 2}, {'country': 'AU', 'name': 'Mildura', 'city': 'Mildura', 'count': 47565, 'locations': 1}, {'country': 'AU', 'name': 'Moe', 'city': 'Moe', 'count': 79838, 'locations': 1}, {'country': 'AU', 'name': 'Morwell', 'city': 'Morwell', 'count': 508997, 'locations': 2}, {'country': 'AU', 'name': 'Mount Isa', 'city': 'Mount Isa', 'count': 206997, 'locations': 2}, {'country': 'AU', 'name': 'MRI Campbellfield fire', 'city': 'MRI Campbellfield fire', 'count': 366, 'locations': 1}, {'country': 'AU', 'name': 'Mt Isa', 'city': 'Mt Isa', 'count': 38273, 'locations': 1}, {'country': 'AU', 'name': 'Muswellbrook', 'city': 'Muswellbrook', 'count': 420640, 'locations': 1}, {'country': 'AU', 'name': 'Newborough', 'city': 'Newborough', 'count': 36702, 'locations': 1}, {'country': 'AU', 'name': 'Newport', 'city': 'Newport', 'count': 13269, 'locations': 1}, {'country': 'AU', 'name': 'Nicholson', 'city': 'Nicholson', 'count': 543, 'locations': 2}, {'country': 'AU', 'name': 'Northern Tablelands', 'city': 'Northern Tablelands', 'count': 184761, 'locations': 3}, {'country': 'AU', 'name': 'North-west Slopes', 'city': 'North-west Slopes', 'count': 845011, 'locations': 5}, {'country': 'AU', 'name': 'Omeo', 'city': 'Omeo', 'count': 2973, 'locations': 1}, {'country': 'AU', 'name': 'Orbost', 'city': 'Orbost', 'count': 2802, 'locations': 1}, {'country': 'AU', 'name': 'Point Cook', 'city': 'Point Cook', 'count': 107996, 'locations': 1}, {'country': 'AU', 'name': 'Port Augusta', 'city': 'Port Augusta', 'count': 20217, 'locations': 1}, {'country': 'AU', 'name': 'Port Pirie', 'city': 'Port Pirie', 'count': 46876, 'locations': 1}, {'country': 'AU', 'name': 'Rosedale', 'city': 'Rosedale', 'count': 50076, 'locations': 1}, {'country': 'AU', 'name': 'Sarsfield', 'city': 'Sarsfield', 'count': 1446, 'locations': 1}, {'country': 'AU', 'name': 'SIMS Metals Laverton North Site 1', 'city': 'SIMS Metals Laverton North Site 1', 'count': 27, 'locations': 1}, {'country': 'AU', 'name': 'SIMS Metals Laverton North Site 2', 'city': 'SIMS Metals Laverton North Site 2', 'count': 33, 'locations': 1}, {'country': 'AU', 'name': 'Singleton', 'city': 'Singleton', 'count': 419574, 'locations': 1}, {'country': 'AU', 'name': 'South East Queensland', 'city': 'South East Queensland', 'count': 4902352, 'locations': 29}, {'country': 'AU', 'name': 'Southern Tablelands', 'city': 'Southern Tablelands', 'count': 196875, 'locations': 2}, {'country': 'AU', 'name': 'South West Queensland', 'city': 'South West Queensland', 'count': 1125551, 'locations': 33}, {'country': 'AU', 'name': 'South-west Slopes', 'city': 'South-west Slopes', 'count': 485878, 'locations': 4}, {'country': 'AU', 'name': 'Spotswood', 'city': 'Spotswood', 'count': 33918, 'locations': 1}, {'country': 'AU', 'name': 'St Albans', 'city': 'St Albans', 'count': 65643, 'locations': 2}, {'country': 'AU', 'name': 'Sunshine West', 'city': 'Sunshine West', 'count': 159, 'locations': 1}, {'country': 'AU', 'name': 'Swan Hill', 'city': 'Swan Hill', 'count': 18579, 'locations': 38}, {'country': 'AU', 'name': \"Swift's Creek\", 'city': \"Swift's Creek\", 'count': 3009, 'locations': 1}, {'country': 'AU', 'name': 'Sydney East', 'city': 'Sydney East', 'count': 3282308, 'locations': 14}, {'country': 'AU', 'name': 'Sydney North-west', 'city': 'Sydney North-west', 'count': 2585370, 'locations': 11}, {'country': 'AU', 'name': 'Sydney South-west', 'city': 'Sydney South-west', 'count': 3081818, 'locations': 6}, {'country': 'AU', 'name': 'Tasmania Region', 'city': 'Tasmania Region', 'count': 8643198, 'locations': 38}, {'country': 'AU', 'name': 'Thomastown East', 'city': 'Thomastown East', 'count': 81, 'locations': 1}, {'country': 'AU', 'name': 'Townsville', 'city': 'Townsville', 'count': 616393, 'locations': 9}, {'country': 'AU', 'name': 'Traralgon', 'city': 'Traralgon', 'count': 354109, 'locations': 1}, {'country': 'AU', 'name': 'Wangaratta', 'city': 'Wangaratta', 'count': 57357, 'locations': 1}, {'country': 'AU', 'name': 'Warburton', 'city': 'Warburton', 'count': 22332, 'locations': 1}, {'country': 'AU', 'name': 'Whyalla', 'city': 'Whyalla', 'count': 50885, 'locations': 2}, {'country': 'AU', 'name': 'Wide Bay-Burnett', 'city': 'Wide Bay-Burnett', 'count': 16014, 'locations': 1}, {'country': 'AU', 'name': 'Wodonga', 'city': 'Wodonga', 'count': 3003, 'locations': 1}, {'country': 'AU', 'name': 'Yinnar', 'city': 'Yinnar', 'count': 60362, 'locations': 1}]}\n",
      "https://api.openaq.org/v1/cities?country=AU\n"
     ]
    }
   ],
   "source": [
    "resp = rqt.get('https://api.openaq.org/v1/cities'  ,params = {\"country\" : 'AU'} )\n",
    "print(resp.status_code)\n",
    "print(resp.json())\n",
    "# data = resp.json()\n",
    "print(resp.url)"
   ]
  },
  {
   "cell_type": "code",
   "execution_count": 45,
   "id": "dc8a916b",
   "metadata": {},
   "outputs": [
    {
     "name": "stdout",
     "output_type": "stream",
     "text": [
      "200\n",
      "{'meta': {'name': 'openaq-api', 'license': 'CC BY 4.0d', 'website': 'api.openaq.org', 'page': 1, 'limit': 5, 'found': 12}, 'results': [{'country': 'BE', 'name': 'Antwerpen', 'city': 'Antwerpen', 'count': 954150, 'locations': 24}, {'country': 'BE', 'name': 'Brabant wallon', 'city': 'Brabant wallon', 'count': 90467, 'locations': 1}, {'country': 'BE', 'name': 'Brussels-Capital Region', 'city': 'Brussels-Capital Region', 'count': 612209, 'locations': 11}, {'country': 'BE', 'name': 'Flanders', 'city': 'Flanders', 'count': 10973, 'locations': 6}, {'country': 'BE', 'name': 'Hainaut', 'city': 'Hainaut', 'count': 535880, 'locations': 7}]}\n",
      "https://api.openaq.org/v1/cities?country=BE&limit=5\n"
     ]
    }
   ],
   "source": [
    "resp = rqt.get('https://api.openaq.org/v1/cities'  ,params = {\"country\" : 'BE' , \"limit\" : 5 } )\n",
    "print(resp.status_code)\n",
    "print(resp.json())\n",
    "# data = resp.json()\n",
    "print(resp.url)"
   ]
  },
  {
   "cell_type": "code",
   "execution_count": 52,
   "id": "c5387347",
   "metadata": {},
   "outputs": [
    {
     "name": "stdout",
     "output_type": "stream",
     "text": [
      "404\n"
     ]
    }
   ],
   "source": [
    "a = rqt.get(\"https://www.metaweather.com/api/location/search/\" ,params ={\"query\":\"Delhi\"})\n",
    "print(a.status_code)"
   ]
  },
  {
   "cell_type": "code",
   "execution_count": 55,
   "id": "5b79abd5",
   "metadata": {},
   "outputs": [
    {
     "name": "stdout",
     "output_type": "stream",
     "text": [
      "200\n",
      "https://api.nasa.gov/planetary/apod?api_key=DEMO_KEY\n"
     ]
    }
   ],
   "source": [
    "a = rqt.get(\"https://api.nasa.gov/planetary/apod\" , params={'api_key':\"DEMO_KEY\"})\n",
    "print(a.status_code)\n",
    "print(a.url)"
   ]
  },
  {
   "cell_type": "markdown",
   "id": "2504ad97",
   "metadata": {},
   "source": [
    "# POST REQUEST"
   ]
  },
  {
   "cell_type": "code",
   "execution_count": 2,
   "id": "a72cf1b8",
   "metadata": {},
   "outputs": [],
   "source": [
    "import requests as rqt"
   ]
  },
  {
   "cell_type": "code",
   "execution_count": 3,
   "id": "ee3c4645",
   "metadata": {},
   "outputs": [
    {
     "name": "stdout",
     "output_type": "stream",
     "text": [
      "<Response [200]>\n",
      "{\n",
      "  \"args\": {}, \n",
      "  \"data\": \"\", \n",
      "  \"files\": {}, \n",
      "  \"form\": {}, \n",
      "  \"headers\": {\n",
      "    \"Accept\": \"*/*\", \n",
      "    \"Accept-Encoding\": \"gzip, deflate, br\", \n",
      "    \"Content-Length\": \"0\", \n",
      "    \"Host\": \"httpbin.org\", \n",
      "    \"User-Agent\": \"python-requests/2.28.1\", \n",
      "    \"X-Amzn-Trace-Id\": \"Root=1-640456fc-37d8084f242112231e0c8e7f\"\n",
      "  }, \n",
      "  \"json\": null, \n",
      "  \"origin\": \"223.177.33.225\", \n",
      "  \"url\": \"http://httpbin.org/post\"\n",
      "}\n",
      "\n"
     ]
    }
   ],
   "source": [
    "response = rqt.post('http://httpbin.org/post')\n",
    "print(response)\n",
    "print(response.text)"
   ]
  },
  {
   "cell_type": "code",
   "execution_count": 6,
   "id": "b6b010a7",
   "metadata": {},
   "outputs": [
    {
     "name": "stdout",
     "output_type": "stream",
     "text": [
      "<Response [200]>\n",
      "{\n",
      "  \"args\": {}, \n",
      "  \"data\": \"\", \n",
      "  \"files\": {}, \n",
      "  \"form\": {\n",
      "    \"Key1\": [\n",
      "      \"val1\", \n",
      "      \"val3\"\n",
      "    ], \n",
      "    \"Key2\": \"val2\"\n",
      "  }, \n",
      "  \"headers\": {\n",
      "    \"Accept\": \"*/*\", \n",
      "    \"Accept-Encoding\": \"gzip, deflate, br\", \n",
      "    \"Content-Length\": \"29\", \n",
      "    \"Content-Type\": \"application/x-www-form-urlencoded\", \n",
      "    \"Host\": \"httpbin.org\", \n",
      "    \"User-Agent\": \"python-requests/2.28.1\", \n",
      "    \"X-Amzn-Trace-Id\": \"Root=1-640457b7-76d13b0154f14372234597a6\"\n",
      "  }, \n",
      "  \"json\": null, \n",
      "  \"origin\": \"223.177.33.225\", \n",
      "  \"url\": \"http://httpbin.org/post\"\n",
      "}\n",
      "\n"
     ]
    }
   ],
   "source": [
    "response = rqt.post('http://httpbin.org/post',data={'Key1': ['val1','val3'],\n",
    "                                                   'Key2':'val2'})\n",
    "print(response)\n",
    "print(response.text)"
   ]
  },
  {
   "cell_type": "code",
   "execution_count": 10,
   "id": "64b3ea59",
   "metadata": {},
   "outputs": [
    {
     "name": "stdout",
     "output_type": "stream",
     "text": [
      "<Response [201]>\n",
      "{\n",
      "  \"userId\": \"2\",\n",
      "  \"<built-in function id>\": \"200\",\n",
      "  \"title\": \"Test\",\n",
      "  \"id\": 101\n",
      "}\n"
     ]
    }
   ],
   "source": [
    "r = rqt.post('http://jsonplaceholder.typicode.com/posts' , data={'userId':2,id:200,'title':'Test'})\n",
    "print(r)\n",
    "print(r.text)"
   ]
  },
  {
   "cell_type": "code",
   "execution_count": null,
   "id": "833b1ceb",
   "metadata": {},
   "outputs": [],
   "source": []
  }
 ],
 "metadata": {
  "kernelspec": {
   "display_name": "Python 3 (ipykernel)",
   "language": "python",
   "name": "python3"
  },
  "language_info": {
   "codemirror_mode": {
    "name": "ipython",
    "version": 3
   },
   "file_extension": ".py",
   "mimetype": "text/x-python",
   "name": "python",
   "nbconvert_exporter": "python",
   "pygments_lexer": "ipython3",
   "version": "3.9.13"
  }
 },
 "nbformat": 4,
 "nbformat_minor": 5
}
