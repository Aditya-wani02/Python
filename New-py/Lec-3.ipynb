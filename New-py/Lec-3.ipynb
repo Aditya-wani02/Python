{
 "cells": [
  {
   "cell_type": "markdown",
   "id": "ee498f7b",
   "metadata": {},
   "source": [
    "# Patterns"
   ]
  },
  {
   "cell_type": "markdown",
   "id": "a9aca3e0",
   "metadata": {},
   "source": [
    "To solve pattern problem\n",
    "\n",
    "1. How many Rows? --> n\n",
    "2.How many columns? \n",
    "3. What to print?"
   ]
  },
  {
   "cell_type": "markdown",
   "id": "c3de6eaa",
   "metadata": {},
   "source": [
    "# 1. Square pattern"
   ]
  },
  {
   "cell_type": "code",
   "execution_count": 7,
   "id": "8d868bfc",
   "metadata": {},
   "outputs": [
    {
     "name": "stdout",
     "output_type": "stream",
     "text": [
      "5\n",
      "*****\n",
      "*****\n",
      "*****\n",
      "*****\n",
      "*****\n"
     ]
    }
   ],
   "source": [
    "n = int(input())\n",
    "i =1\n",
    "while i <= n:\n",
    "    j = 1\n",
    "    while j <= n:\n",
    "        print(\"*\",end= \"\")\n",
    "        j=j+1\n",
    "    print()\n",
    "    i = i+1;"
   ]
  },
  {
   "cell_type": "code",
   "execution_count": 9,
   "id": "d9d7c7e3",
   "metadata": {},
   "outputs": [
    {
     "name": "stdout",
     "output_type": "stream",
     "text": [
      "5\n",
      "11111\n",
      "22222\n",
      "33333\n",
      "44444\n",
      "55555\n"
     ]
    }
   ],
   "source": [
    "n = int(input())\n",
    "i = 1\n",
    "while i<=n:\n",
    "    j=1\n",
    "    while j<=n:\n",
    "        print(i,end=\"\")\n",
    "        j=j+1\n",
    "    print()\n",
    "    i=i+1"
   ]
  },
  {
   "cell_type": "code",
   "execution_count": 10,
   "id": "92a6b709",
   "metadata": {},
   "outputs": [
    {
     "name": "stdout",
     "output_type": "stream",
     "text": [
      "4\n",
      "1234\n",
      "1234\n",
      "1234\n",
      "1234\n"
     ]
    }
   ],
   "source": [
    "n = int(input())\n",
    "i = 1\n",
    "while i<=n:\n",
    "    j=1\n",
    "    while j<=n:\n",
    "        print(j,end=\"\")\n",
    "        j=j+1\n",
    "    print()\n",
    "    i=i+1"
   ]
  },
  {
   "cell_type": "code",
   "execution_count": 14,
   "id": "fd086986",
   "metadata": {},
   "outputs": [
    {
     "name": "stdout",
     "output_type": "stream",
     "text": [
      "7\n",
      "7654321\n",
      "7654321\n",
      "7654321\n",
      "7654321\n",
      "7654321\n",
      "7654321\n",
      "7654321\n"
     ]
    }
   ],
   "source": [
    "n = int(input())\n",
    "i = 1\n",
    "x = n+1\n",
    "while i<=n:\n",
    "    j=1\n",
    "    while j<=n:\n",
    "        print(x-j,end=\"\")\n",
    "        j=j+1\n",
    "    print()\n",
    "    i=i+1"
   ]
  },
  {
   "cell_type": "markdown",
   "id": "de532dab",
   "metadata": {},
   "source": [
    "## 2. Triangle"
   ]
  },
  {
   "cell_type": "code",
   "execution_count": 15,
   "id": "1884355b",
   "metadata": {},
   "outputs": [
    {
     "name": "stdout",
     "output_type": "stream",
     "text": [
      "4\n",
      "*\n",
      "**\n",
      "***\n",
      "****\n"
     ]
    }
   ],
   "source": [
    "n = int(input())\n",
    "i = 1\n",
    "while i <= n:\n",
    "    j = 1\n",
    "    while j <= i:\n",
    "        print(\"*\",end=\"\")\n",
    "        j =j+1\n",
    "    print()\n",
    "    i=i+1"
   ]
  },
  {
   "cell_type": "code",
   "execution_count": 18,
   "id": "f36ea549",
   "metadata": {},
   "outputs": [
    {
     "name": "stdout",
     "output_type": "stream",
     "text": [
      "4\n",
      "1\n",
      "12\n",
      "123\n",
      "1234\n"
     ]
    }
   ],
   "source": [
    "n = int(input())\n",
    "i = 1\n",
    "while i <= n:\n",
    "    j = 1\n",
    "    while j <= i:\n",
    "        print(j,end=\"\")\n",
    "        j =j+1\n",
    "    print()\n",
    "    i=i+1"
   ]
  },
  {
   "cell_type": "code",
   "execution_count": 27,
   "id": "f4a14b62",
   "metadata": {},
   "outputs": [
    {
     "name": "stdout",
     "output_type": "stream",
     "text": [
      "4\n",
      "1 \n",
      "2 3 \n",
      "3 4 5 \n",
      "4 5 6 7 \n"
     ]
    }
   ],
   "source": [
    "n = int(input())\n",
    "i = 1\n",
    "x= 1\n",
    "while i <= n:\n",
    "    j = 1\n",
    "    x=i\n",
    "    while j <= i:\n",
    "        print(x,end=\" \")\n",
    "        j =j+1\n",
    "        x=x+1\n",
    "    \n",
    "    print()\n",
    "    \n",
    "    i=i+1"
   ]
  },
  {
   "cell_type": "code",
   "execution_count": 30,
   "id": "7f859b80",
   "metadata": {},
   "outputs": [
    {
     "name": "stdout",
     "output_type": "stream",
     "text": [
      "5\n",
      "1 \n",
      "2 3 \n",
      "4 5 6 \n",
      "7 8 9 10 \n",
      "11 12 13 14 15 \n"
     ]
    }
   ],
   "source": [
    "n = int(input())\n",
    "i = 1\n",
    "x= 1\n",
    "while i <= n:\n",
    "    j = 1\n",
    "    while j <= i:\n",
    "        print(x,end=\" \")\n",
    "        j =j+1\n",
    "        x=x+1\n",
    "    \n",
    "    print()\n",
    "    i=i+1"
   ]
  },
  {
   "cell_type": "markdown",
   "id": "32b2bd19",
   "metadata": {},
   "source": [
    "## 3.Character pattern "
   ]
  },
  {
   "cell_type": "code",
   "execution_count": 39,
   "id": "b805cc68",
   "metadata": {},
   "outputs": [],
   "source": [
    "\n",
    "# k = int(input())\n",
    "# 'A' + k - 1\n",
    "# ord('B') it gives the ascii of the character\n",
    "# chr(66)    it gives the character of the ascii\n",
    "# charater are represented by ASCII value"
   ]
  },
  {
   "cell_type": "code",
   "execution_count": 43,
   "id": "325c2c68",
   "metadata": {},
   "outputs": [
    {
     "name": "stdout",
     "output_type": "stream",
     "text": [
      "2\n",
      "B\n"
     ]
    },
    {
     "data": {
      "text/plain": [
       "'B'"
      ]
     },
     "execution_count": 43,
     "metadata": {},
     "output_type": "execute_result"
    }
   ],
   "source": [
    "# Print kth alphabet\n",
    "k = int(input())\n",
    "x = ord('A')\n",
    "req = x + k -1\n",
    "print(chr(req))\n"
   ]
  },
  {
   "cell_type": "code",
   "execution_count": 48,
   "id": "0687e293",
   "metadata": {},
   "outputs": [
    {
     "name": "stdout",
     "output_type": "stream",
     "text": [
      "5\n",
      "ABCDE\n",
      "ABCDE\n",
      "ABCDE\n",
      "ABCDE\n",
      "ABCDE\n"
     ]
    }
   ],
   "source": [
    "n = int(input())\n",
    "i = 1\n",
    "while i<=n:\n",
    "    j=1\n",
    "    while j<=n:\n",
    "        charP = chr(ord('A') + j - 1 )\n",
    "        print(charP,end=\"\")\n",
    "        j=j+1\n",
    "    print()\n",
    "    i=i+1"
   ]
  },
  {
   "cell_type": "code",
   "execution_count": 5,
   "id": "3766fe4c",
   "metadata": {},
   "outputs": [
    {
     "name": "stdout",
     "output_type": "stream",
     "text": [
      "5\n",
      "ABCDE\n",
      "BCDEF\n",
      "CDEFG\n",
      "DEFGH\n",
      "EFGHI\n"
     ]
    }
   ],
   "source": [
    "n = int(input())\n",
    "i = 1\n",
    "while i<=n:\n",
    "    y = ord('A') + i -1 # starting character for next line\n",
    "    j=1\n",
    "    while j<=n:\n",
    "        charP = chr( y + j - 1 )\n",
    "        print(charP,end=\"\")\n",
    "        j=j+1\n",
    "        \n",
    "    print()\n",
    "    i=i+1\n",
    "    "
   ]
  },
  {
   "cell_type": "markdown",
   "id": "16fa29ca",
   "metadata": {},
   "source": [
    "## inverted Triangle"
   ]
  },
  {
   "cell_type": "code",
   "execution_count": 9,
   "id": "d008177d",
   "metadata": {},
   "outputs": [
    {
     "name": "stdout",
     "output_type": "stream",
     "text": [
      "4\n",
      "* * * * \n",
      "* * * \n",
      "* * \n",
      "* \n"
     ]
    }
   ],
   "source": [
    "n = int(input())\n",
    "i = 1\n",
    "while i<=n:\n",
    "    j = 1\n",
    "    while j <= (n - i + 1):\n",
    "        print('*',end=\"\")\n",
    "        j= j+1\n",
    "    print()\n",
    "    i=i+1"
   ]
  },
  {
   "cell_type": "markdown",
   "id": "a2a8854b",
   "metadata": {},
   "source": [
    "## Reverse / Mirror "
   ]
  },
  {
   "cell_type": "code",
   "execution_count": 17,
   "id": "46c9047c",
   "metadata": {},
   "outputs": [
    {
     "name": "stdout",
     "output_type": "stream",
     "text": [
      "4\n",
      "   *\n",
      "  **\n",
      " ***\n",
      "****\n"
     ]
    }
   ],
   "source": [
    "n = int(input())\n",
    "i = 1\n",
    "while i<=n:\n",
    "    j = 1\n",
    "    while j <= n-i:\n",
    "        print(\" \" ,end='')\n",
    "        j=j+1\n",
    "    s = 1\n",
    "    while s <= i:\n",
    "        print(\"*\" ,end='')\n",
    "        s=s+1\n",
    "    print()\n",
    "    i=i+1"
   ]
  },
  {
   "cell_type": "code",
   "execution_count": 1,
   "id": "e1cdc160",
   "metadata": {},
   "outputs": [
    {
     "name": "stdout",
     "output_type": "stream",
     "text": [
      "5\n",
      "    1\n",
      "   121\n",
      "  12321\n",
      " 1234321\n",
      "123454321\n"
     ]
    }
   ],
   "source": [
    "n = int(input())\n",
    "i = 1\n",
    "while i<=n:\n",
    "    j = 1\n",
    "    while j <= n-i:\n",
    "        print(\" \" ,end='')\n",
    "        j=j+1\n",
    "    s = 1\n",
    "    while s <= i:\n",
    "        print(s ,end='')\n",
    "        s=s+1\n",
    "    p = i-1\n",
    "    while p >= 1:\n",
    "        print(p ,end='')\n",
    "        p=p-1\n",
    "    print()\n",
    "    i=i+1"
   ]
  }
 ],
 "metadata": {
  "kernelspec": {
   "display_name": "Python 3 (ipykernel)",
   "language": "python",
   "name": "python3"
  },
  "language_info": {
   "codemirror_mode": {
    "name": "ipython",
    "version": 3
   },
   "file_extension": ".py",
   "mimetype": "text/x-python",
   "name": "python",
   "nbconvert_exporter": "python",
   "pygments_lexer": "ipython3",
   "version": "3.9.13"
  }
 },
 "nbformat": 4,
 "nbformat_minor": 5
}
