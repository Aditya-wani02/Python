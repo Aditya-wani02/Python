{
 "cells": [
  {
   "cell_type": "markdown",
   "id": "47c8a8d1",
   "metadata": {},
   "source": [
    "# Functions\n"
   ]
  },
  {
   "cell_type": "markdown",
   "id": "4fbe41ac",
   "metadata": {},
   "source": [
    "## nCr"
   ]
  },
  {
   "cell_type": "code",
   "execution_count": 2,
   "id": "aef4d1f4",
   "metadata": {},
   "outputs": [
    {
     "name": "stdout",
     "output_type": "stream",
     "text": [
      "4\n",
      "2\n",
      "6\n"
     ]
    }
   ],
   "source": [
    "n = int(input())\n",
    "r = int(input())\n",
    "n_fact= 1\n",
    "for i in range(1,n+1):\n",
    "    n_fact = n_fact *i\n",
    "    \n",
    "r_fact= 1   \n",
    "for i in range(1,r+1):\n",
    "    r_fact = r_fact *i\n",
    "    \n",
    "n_r_fact= 1   \n",
    "for i in range(1,n-r+1):\n",
    "    n_r_fact = n_r_fact *i\n",
    "    \n",
    "ans = n_fact //(r_fact * n_r_fact)\n",
    "print(ans)"
   ]
  },
  {
   "cell_type": "code",
   "execution_count": 83,
   "id": "7933b6af",
   "metadata": {},
   "outputs": [],
   "source": [
    "def fact(n):\n",
    "    n_fact= 1\n",
    "    for i in range(1,n+1):\n",
    "        n_fact = n_fact *i\n",
    "    return n_fact"
   ]
  },
  {
   "cell_type": "code",
   "execution_count": 7,
   "id": "31ceb4e4",
   "metadata": {},
   "outputs": [],
   "source": [
    "a=fact(4)"
   ]
  },
  {
   "cell_type": "code",
   "execution_count": 9,
   "id": "f5618526",
   "metadata": {},
   "outputs": [
    {
     "name": "stdout",
     "output_type": "stream",
     "text": [
      "5\n",
      "2\n",
      "10\n"
     ]
    }
   ],
   "source": [
    "n = int(input())\n",
    "r = int(input())\n",
    "n_fact=fact(n)\n",
    "r_fact=fact(r)\n",
    "n_r_fact=fact(n-r)\n",
    "\n",
    "ans = n_fact //(r_fact * n_r_fact)\n",
    "print(ans)"
   ]
  },
  {
   "cell_type": "code",
   "execution_count": 74,
   "id": "2afd8764",
   "metadata": {},
   "outputs": [],
   "source": [
    "## check is prime\n",
    "def isprime(a):\n",
    "    for i in range(2 , a):\n",
    "        if (a % i == 0):\n",
    "            return False\n",
    "    else:\n",
    "        return True"
   ]
  },
  {
   "cell_type": "code",
   "execution_count": 75,
   "id": "6eaaca45",
   "metadata": {},
   "outputs": [
    {
     "name": "stdout",
     "output_type": "stream",
     "text": [
      "9\n"
     ]
    },
    {
     "data": {
      "text/plain": [
       "False"
      ]
     },
     "execution_count": 75,
     "metadata": {},
     "output_type": "execute_result"
    }
   ],
   "source": [
    "a = int(input())\n",
    "isprime(a)"
   ]
  },
  {
   "cell_type": "code",
   "execution_count": 80,
   "id": "1cd221f0",
   "metadata": {},
   "outputs": [],
   "source": [
    "# print all prime from 2 to n\n",
    "def primeFrom2ToN(n):\n",
    "    for i in range(2,n):\n",
    "        if isprime(i):\n",
    "            print(i)\n",
    "            "
   ]
  },
  {
   "cell_type": "code",
   "execution_count": 79,
   "id": "4a1ca9b0",
   "metadata": {},
   "outputs": [
    {
     "name": "stdout",
     "output_type": "stream",
     "text": [
      "2\n",
      "3\n",
      "5\n",
      "7\n",
      "11\n",
      "13\n",
      "17\n",
      "19\n",
      "23\n",
      "29\n",
      "31\n",
      "37\n",
      "41\n",
      "43\n",
      "47\n",
      "53\n",
      "59\n",
      "61\n",
      "67\n",
      "71\n",
      "73\n",
      "79\n",
      "83\n",
      "89\n",
      "97\n"
     ]
    }
   ],
   "source": [
    "primeFrom2ToN(100)"
   ]
  },
  {
   "cell_type": "code",
   "execution_count": 84,
   "id": "c097b5a0",
   "metadata": {},
   "outputs": [],
   "source": [
    "def ncr(n , r):\n",
    "    n_fact=fact(n)\n",
    "    r_fact=fact(r)\n",
    "    n_r_fact=fact(n-r)\n",
    "\n",
    "    ans = n_fact //(r_fact * n_r_fact)\n",
    "    return(ans)"
   ]
  },
  {
   "cell_type": "code",
   "execution_count": 85,
   "id": "2f98df09",
   "metadata": {},
   "outputs": [
    {
     "data": {
      "text/plain": [
       "6"
      ]
     },
     "execution_count": 85,
     "metadata": {},
     "output_type": "execute_result"
    }
   ],
   "source": [
    "ncr(4,2)"
   ]
  },
  {
   "cell_type": "markdown",
   "id": "ebb0feea",
   "metadata": {},
   "source": [
    "## function using list & string"
   ]
  },
  {
   "cell_type": "code",
   "execution_count": 4,
   "id": "98a283a0",
   "metadata": {},
   "outputs": [
    {
     "data": {
      "text/plain": [
       "[2, 2, 3]"
      ]
     },
     "execution_count": 4,
     "metadata": {},
     "output_type": "execute_result"
    }
   ],
   "source": [
    "def increment_list_first(l):\n",
    "    l[0] = l[0] +1\n",
    "a=  [1,2,3]\n",
    "increment_list_first(a)\n",
    "a"
   ]
  },
  {
   "cell_type": "code",
   "execution_count": 7,
   "id": "9487fa2e",
   "metadata": {},
   "outputs": [
    {
     "data": {
      "text/plain": [
       "[1, 2, 3]"
      ]
     },
     "execution_count": 7,
     "metadata": {},
     "output_type": "execute_result"
    }
   ],
   "source": [
    "def change_list(l):\n",
    "    l= [2]\n",
    "a=  [1,2,3]\n",
    "change_list(a)\n",
    "a"
   ]
  },
  {
   "cell_type": "code",
   "execution_count": 8,
   "id": "9235ed35",
   "metadata": {},
   "outputs": [
    {
     "data": {
      "text/plain": [
       "'abcd'"
      ]
     },
     "execution_count": 8,
     "metadata": {},
     "output_type": "execute_result"
    }
   ],
   "source": [
    "def change_string(l):\n",
    "    l= \"qwert\"\n",
    "a=  \"abcd\"\n",
    "change_string(a)\n",
    "a"
   ]
  },
  {
   "cell_type": "code",
   "execution_count": 9,
   "id": "83c2b4b8",
   "metadata": {},
   "outputs": [
    {
     "data": {
      "text/plain": [
       "[10, 9, 8, 7, 6, 5, 4, 3, 2, 1]"
      ]
     },
     "execution_count": 9,
     "metadata": {},
     "output_type": "execute_result"
    }
   ],
   "source": [
    "def create_rev_array(n):\n",
    "    l = []\n",
    "    for i in range(n,0,-1):\n",
    "        l.append(i)\n",
    "    return l\n",
    "\n",
    "l = create_rev_array(10)\n",
    "l"
   ]
  },
  {
   "cell_type": "code",
   "execution_count": null,
   "id": "f7592fe4",
   "metadata": {},
   "outputs": [],
   "source": []
  }
 ],
 "metadata": {
  "kernelspec": {
   "display_name": "Python 3 (ipykernel)",
   "language": "python",
   "name": "python3"
  },
  "language_info": {
   "codemirror_mode": {
    "name": "ipython",
    "version": 3
   },
   "file_extension": ".py",
   "mimetype": "text/x-python",
   "name": "python",
   "nbconvert_exporter": "python",
   "pygments_lexer": "ipython3",
   "version": "3.9.13"
  }
 },
 "nbformat": 4,
 "nbformat_minor": 5
}
