{
 "cells": [
  {
   "cell_type": "markdown",
   "id": "b4c627df",
   "metadata": {},
   "source": [
    "# Conditional and Loops\n"
   ]
  },
  {
   "cell_type": "markdown",
   "id": "cd5a6478",
   "metadata": {},
   "source": [
    "## Booleans\n"
   ]
  },
  {
   "cell_type": "code",
   "execution_count": 2,
   "id": "d519ec64",
   "metadata": {},
   "outputs": [
    {
     "data": {
      "text/plain": [
       "bool"
      ]
     },
     "execution_count": 2,
     "metadata": {},
     "output_type": "execute_result"
    }
   ],
   "source": [
    "# They are not in quotes they are keyword /\\ T and F are capital\n",
    "a = True\n",
    "b = False\n",
    "type(a)"
   ]
  },
  {
   "cell_type": "markdown",
   "id": "78081e4d",
   "metadata": {},
   "source": [
    "### Relational Operators"
   ]
  },
  {
   "cell_type": "code",
   "execution_count": 8,
   "id": "a2e00712",
   "metadata": {},
   "outputs": [
    {
     "name": "stdout",
     "output_type": "stream",
     "text": [
      "False\n",
      "True\n",
      "False\n",
      "True\n",
      "False\n",
      "True\n"
     ]
    }
   ],
   "source": [
    "a = 10\n",
    "b = 20\n",
    "print(a > b) # is a greater than b \n",
    "print(a < b) # is b greater than a\n",
    "print(a >= b) # greater and equal\n",
    "print(a <= b)\n",
    "print(a == b) # equal\n",
    "print(a != b)# not equal"
   ]
  },
  {
   "cell_type": "markdown",
   "id": "048e35c0",
   "metadata": {},
   "source": [
    "### logical Operators"
   ]
  },
  {
   "cell_type": "code",
   "execution_count": 10,
   "id": "6ef2b964",
   "metadata": {},
   "outputs": [
    {
     "data": {
      "text/plain": [
       "True"
      ]
     },
     "execution_count": 10,
     "metadata": {},
     "output_type": "execute_result"
    }
   ],
   "source": [
    "c1 = a > 10\n",
    "c2 = b > 10\n",
    "c1 and c2  # both have to be true \n",
    "c1 or  c2  # one of them should be true\n",
    "# not c1"
   ]
  },
  {
   "cell_type": "markdown",
   "id": "c984e6b0",
   "metadata": {},
   "source": [
    "## IF ELSE"
   ]
  },
  {
   "cell_type": "code",
   "execution_count": 11,
   "id": "d40ce34b",
   "metadata": {},
   "outputs": [
    {
     "name": "stdout",
     "output_type": "stream",
     "text": [
      " Inside else\n"
     ]
    }
   ],
   "source": [
    "a = False\n",
    "if a:\n",
    "    print(\"Inside if\")\n",
    "    print(\"Indentation is important\")\n",
    "else:\n",
    "    print(\" Inside else\")"
   ]
  },
  {
   "cell_type": "code",
   "execution_count": 14,
   "id": "0197efc8",
   "metadata": {},
   "outputs": [
    {
     "name": "stdout",
     "output_type": "stream",
     "text": [
      "Enter a number32\n",
      "Number is even\n"
     ]
    }
   ],
   "source": [
    "#  Check number to be odd or even\n",
    "a = int(input(\"Enter a number\"))\n",
    "r = a % 2\n",
    "is_even = (r == 0);\n",
    "if is_even:\n",
    "    print(\"Number is even\")\n",
    "else:\n",
    "    print(\"Odd number\")"
   ]
  },
  {
   "cell_type": "code",
   "execution_count": 16,
   "id": "81dd9509",
   "metadata": {},
   "outputs": [
    {
     "name": "stdout",
     "output_type": "stream",
     "text": [
      "Enter a number23\n",
      "Odd number\n"
     ]
    }
   ],
   "source": [
    "#  Check number to be odd or even\n",
    "a = int(input(\"Enter a number\"))\n",
    "if a % 2  == 0:\n",
    "    print(\"Number is even\")\n",
    "else:\n",
    "    print(\"Odd number\")"
   ]
  },
  {
   "cell_type": "code",
   "execution_count": null,
   "id": "ff1dfa27",
   "metadata": {},
   "outputs": [],
   "source": [
    "# question\n",
    "a = int(input())\n",
    "b = int(input())\n",
    "\n",
    "if a > 10 and b > 10:\n",
    "    print(\"Both is greater than 10\")\n",
    "else :\n",
    "    print(\"NOT Both greater than 10\")"
   ]
  },
  {
   "cell_type": "code",
   "execution_count": 21,
   "id": "8623387e",
   "metadata": {},
   "outputs": [
    {
     "name": "stdout",
     "output_type": "stream",
     "text": [
      "4\n",
      "it not is 7\n"
     ]
    }
   ],
   "source": [
    "a = int(input())\n",
    "if a != 7:\n",
    "    print(\"it not is 7\")\n",
    "else: \n",
    "    print(\"it is 7\")"
   ]
  },
  {
   "cell_type": "markdown",
   "id": "d5ab563e",
   "metadata": {},
   "source": [
    "## Elif (else - if)\n"
   ]
  },
  {
   "cell_type": "code",
   "execution_count": 4,
   "id": "36d5ba5e",
   "metadata": {},
   "outputs": [
    {
     "name": "stdout",
     "output_type": "stream",
     "text": [
      "43\n",
      "432\n",
      "4\n",
      "b is greater\n"
     ]
    }
   ],
   "source": [
    "a = int(input())\n",
    "b = int(input())\n",
    "c = int(input())\n",
    "if a >= b and a >= c:\n",
    "    print('a is greater')\n",
    "elif b >= a and b >= c:\n",
    "    print('b is greater')\n",
    "else:\n",
    "    print('c is greater')"
   ]
  },
  {
   "cell_type": "code",
   "execution_count": 11,
   "id": "21efc545",
   "metadata": {},
   "outputs": [
    {
     "name": "stdout",
     "output_type": "stream",
     "text": [
      "7\n",
      "green\n"
     ]
    }
   ],
   "source": [
    "n = int(input())\n",
    "\n",
    "\n",
    "if n > 10:\n",
    "    print(\"red\")\n",
    "elif  n >= 5:\n",
    "    print(\"green\")\n",
    "elif n < 5 and n > 0:\n",
    "    print(\"yellow\")"
   ]
  },
  {
   "cell_type": "markdown",
   "id": "affe62ab",
   "metadata": {},
   "source": [
    "## Nested if else"
   ]
  },
  {
   "cell_type": "code",
   "execution_count": 14,
   "id": "1d414037",
   "metadata": {},
   "outputs": [
    {
     "name": "stdout",
     "output_type": "stream",
     "text": [
      "Enter a number0\n",
      "Number is even\n",
      "n is zero\n"
     ]
    }
   ],
   "source": [
    "a = int(input(\"Enter a number\"))\n",
    "if a % 2  == 0:\n",
    "    print(\"Number is even\")\n",
    "    if a == 0:\n",
    "        print(\"n is zero\")\n",
    "else:\n",
    "    print(\"Odd number\")"
   ]
  },
  {
   "cell_type": "code",
   "execution_count": 16,
   "id": "60febd34",
   "metadata": {},
   "outputs": [
    {
     "name": "stdout",
     "output_type": "stream",
     "text": [
      "44\n",
      "33\n",
      "2\n"
     ]
    }
   ],
   "source": [
    "n = int(input())\n",
    "m = int(input())\n",
    "if n % 2 ==0 :\n",
    "    if m % 2 == 0:\n",
    "        print(1)\n",
    "    else:\n",
    "        print(2)\n",
    "else:\n",
    "    print(3)"
   ]
  },
  {
   "cell_type": "markdown",
   "id": "48c35e5a",
   "metadata": {},
   "source": [
    "# LOOPS"
   ]
  },
  {
   "cell_type": "markdown",
   "id": "6bbb193b",
   "metadata": {},
   "source": [
    "## While Loop"
   ]
  },
  {
   "cell_type": "code",
   "execution_count": 5,
   "id": "6ce98e55",
   "metadata": {},
   "outputs": [
    {
     "name": "stdout",
     "output_type": "stream",
     "text": [
      "5\n",
      "1\n",
      "1\n",
      "1\n",
      "1\n",
      "1\n"
     ]
    }
   ],
   "source": [
    "n = int(input())\n",
    "count =1\n",
    "while count <=n:\n",
    "    print(1)\n",
    "    count +=1"
   ]
  },
  {
   "cell_type": "code",
   "execution_count": 6,
   "id": "66f8518d",
   "metadata": {},
   "outputs": [
    {
     "name": "stdout",
     "output_type": "stream",
     "text": [
      "5\n",
      "1\n",
      "2\n",
      "3\n",
      "4\n",
      "5\n"
     ]
    }
   ],
   "source": [
    "# First n natural numbers\n",
    "n = int(input())\n",
    "count = 1\n",
    "while count <= n:\n",
    "    print(count)\n",
    "    count +=1"
   ]
  },
  {
   "cell_type": "code",
   "execution_count": 13,
   "id": "5b44e51b",
   "metadata": {},
   "outputs": [
    {
     "name": "stdout",
     "output_type": "stream",
     "text": [
      "5\n",
      "1\n",
      "2\n",
      "3\n",
      "4\n",
      "5\n",
      "15\n"
     ]
    }
   ],
   "source": [
    "# sum of First n natural numbers\n",
    "n = int(input())\n",
    "count = 1\n",
    "s = 0\n",
    "while count <= n:\n",
    "    print(count) \n",
    "    s = s + count\n",
    "    count =count +1\n",
    "   \n",
    "print(s)"
   ]
  },
  {
   "cell_type": "markdown",
   "id": "e2f3792c",
   "metadata": {},
   "source": [
    "## prime numbers"
   ]
  },
  {
   "cell_type": "code",
   "execution_count": 4,
   "id": "a16cd6de",
   "metadata": {},
   "outputs": [
    {
     "name": "stdout",
     "output_type": "stream",
     "text": [
      "7\n",
      "Prime Number\n"
     ]
    }
   ],
   "source": [
    "n = int(input())\n",
    "d = 2\n",
    "flag = False\n",
    "while d < n:\n",
    "    if n % d == 0:\n",
    "        flag = True\n",
    "    d = d+1\n",
    "if flag :\n",
    "    print(\"Number is not Prime\")\n",
    "else:\n",
    "    print(\"Prime Number\")"
   ]
  },
  {
   "cell_type": "markdown",
   "id": "7350109b",
   "metadata": {},
   "source": [
    "## Prime in range"
   ]
  },
  {
   "cell_type": "code",
   "execution_count": 14,
   "id": "75ab61d0",
   "metadata": {},
   "outputs": [
    {
     "name": "stdout",
     "output_type": "stream",
     "text": [
      "8\n",
      "2\n",
      "3\n",
      "5\n",
      "7\n"
     ]
    }
   ],
   "source": [
    "n = int(input())\n",
    "d = 2\n",
    "while d <= n:\n",
    "    k = 2\n",
    "    flag = False\n",
    "    while k < d:\n",
    "        if d % k == 0:\n",
    "            flag = True\n",
    "        k = k+1\n",
    "    if not (flag):\n",
    "        print(d) \n",
    "    d = d+1"
   ]
  }
 ],
 "metadata": {
  "kernelspec": {
   "display_name": "Python 3 (ipykernel)",
   "language": "python",
   "name": "python3"
  },
  "language_info": {
   "codemirror_mode": {
    "name": "ipython",
    "version": 3
   },
   "file_extension": ".py",
   "mimetype": "text/x-python",
   "name": "python",
   "nbconvert_exporter": "python",
   "pygments_lexer": "ipython3",
   "version": "3.9.13"
  }
 },
 "nbformat": 4,
 "nbformat_minor": 5
}
